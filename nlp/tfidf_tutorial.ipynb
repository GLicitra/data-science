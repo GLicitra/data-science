{
 "cells": [
  {
   "cell_type": "markdown",
   "metadata": {},
   "source": [
    "## Term Frequency — Inverse Data Frequency (tf-idf) \n",
    "Lecture note: unsupervided learning (DataCamp)"
   ]
  },
  {
   "cell_type": "code",
   "execution_count": 14,
   "metadata": {},
   "outputs": [],
   "source": [
    "from sklearn.feature_extraction.text import TfidfVectorizer\n",
    "from nltk.tokenize import sent_tokenize\n",
    "from nltk.tokenize import word_tokenize\n",
    "from nltk.stem     import WordNetLemmatizer\n",
    "from nltk.corpus   import stopwords\n",
    "from pathlib       import Path\n",
    "import pandas as pd\n",
    "import os"
   ]
  },
  {
   "cell_type": "markdown",
   "metadata": {},
   "source": [
    "### tf-idf via sklearn"
   ]
  },
  {
   "cell_type": "code",
   "execution_count": 3,
   "metadata": {},
   "outputs": [],
   "source": [
    "documents = ['cats say meow', 'dogs say woof', 'dogs chase cats']"
   ]
  },
  {
   "cell_type": "code",
   "execution_count": 4,
   "metadata": {},
   "outputs": [],
   "source": [
    "# Create a TfidfVectorizer: tfidf\n",
    "tfidf = TfidfVectorizer()"
   ]
  },
  {
   "cell_type": "code",
   "execution_count": 5,
   "metadata": {},
   "outputs": [],
   "source": [
    "# Apply fit_transform to document: csr_mat\n",
    "csr_mat = tfidf.fit_transform(documents)"
   ]
  },
  {
   "cell_type": "code",
   "execution_count": 6,
   "metadata": {},
   "outputs": [
    {
     "name": "stdout",
     "output_type": "stream",
     "text": [
      "[[0.51785612 0.         0.         0.68091856 0.51785612 0.        ]\n",
      " [0.         0.         0.51785612 0.         0.51785612 0.68091856]\n",
      " [0.51785612 0.68091856 0.51785612 0.         0.         0.        ]]\n"
     ]
    }
   ],
   "source": [
    "# Print result of toarray() method\n",
    "print(csr_mat.toarray())"
   ]
  },
  {
   "cell_type": "code",
   "execution_count": 7,
   "metadata": {},
   "outputs": [],
   "source": [
    "# Get the words: words\n",
    "words = tfidf.get_feature_names()"
   ]
  },
  {
   "cell_type": "code",
   "execution_count": 8,
   "metadata": {},
   "outputs": [
    {
     "name": "stdout",
     "output_type": "stream",
     "text": [
      "['cats', 'chase', 'dogs', 'meow', 'say', 'woof']\n"
     ]
    }
   ],
   "source": [
    "# Print words\n",
    "print(words)"
   ]
  },
  {
   "cell_type": "code",
   "execution_count": 9,
   "metadata": {},
   "outputs": [],
   "source": [
    "df_word = pd.DataFrame(data = csr_mat.toarray(), columns = words)"
   ]
  },
  {
   "cell_type": "code",
   "execution_count": 10,
   "metadata": {},
   "outputs": [
    {
     "name": "stdout",
     "output_type": "stream",
     "text": [
      "o Documents\n",
      "cats say meow\n",
      "dogs say woof\n",
      "dogs chase cats\n",
      "\n",
      " o tf-idf word-frequency array \n",
      "        cats     chase      dogs      meow       say      woof\n",
      "0  0.517856  0.000000  0.000000  0.680919  0.517856  0.000000\n",
      "1  0.000000  0.000000  0.517856  0.000000  0.517856  0.680919\n",
      "2  0.517856  0.680919  0.517856  0.000000  0.000000  0.000000\n"
     ]
    }
   ],
   "source": [
    "print('o Documents')\n",
    "for document in documents :\n",
    "    print(document)\n",
    "    \n",
    "print(f\"\\n o tf-idf word-frequency array \\n {df_word}\")"
   ]
  },
  {
   "cell_type": "markdown",
   "metadata": {},
   "source": [
    "### tf-idf via NLTK"
   ]
  },
  {
   "cell_type": "code",
   "execution_count": 15,
   "metadata": {},
   "outputs": [
    {
     "name": "stdout",
     "output_type": "stream",
     "text": [
      "- Root directory = C:\\Users\\giann\\data-science-core\n"
     ]
    }
   ],
   "source": [
    "# set root directory\n",
    "path_root = Path(\"C:/Users/giann/data-science-core\")\n",
    "os.chdir(path_root)\n",
    "print(f'- Root directory = {os.getcwd()}')"
   ]
  },
  {
   "cell_type": "code",
   "execution_count": 16,
   "metadata": {},
   "outputs": [
    {
     "name": "stdout",
     "output_type": "stream",
     "text": [
      "SCENE 1: [wind] [clop clop clop] \n",
      "KING ARTHUR: Whoa there!  [clop clop clop] \n",
      "SOLDIER #1: Halt!  Who goes there?\n",
      "ARTHUR: It is I, Arthur, son of Uther Pendragon, from the castle of Camelot.  King of the Britons, defeator of the Saxons, sovereign of all England!\n",
      "SOLDIER #1: Pull the other one!\n",
      "ARTHUR: I am, ...  and this is my trusty servant Patsy.  We have ridden the length and breadth of the land in search of knights who will join me in my court\n"
     ]
    }
   ],
   "source": [
    "# import dataset\n",
    "path_dataset = path_root / 'dataset/grail.txt'\n",
    "file      = open(path_dataset, mode = 'r') # 'r' is to read\n",
    "scene_one = file.read()\n",
    "file.close()\n",
    "print(scene_one[0:450])"
   ]
  },
  {
   "cell_type": "code",
   "execution_count": 17,
   "metadata": {},
   "outputs": [],
   "source": [
    "corpus = sent_tokenize(scene_one)"
   ]
  },
  {
   "cell_type": "code",
   "execution_count": 18,
   "metadata": {},
   "outputs": [],
   "source": [
    "# Convert the tokens into lowercase: lower_tokens\n",
    "lower_tokens = [t.lower() for t in corpus]"
   ]
  },
  {
   "cell_type": "code",
   "execution_count": 20,
   "metadata": {},
   "outputs": [],
   "source": [
    "# Retain alphabetic words: alpha_only\n",
    "alpha_only = [t for t in lower_tokens if t.isalpha()]"
   ]
  },
  {
   "cell_type": "code",
   "execution_count": 21,
   "metadata": {},
   "outputs": [],
   "source": [
    "# Remove all stop words: no_stops\n",
    "stop_words = set(stopwords.words('english')) \n",
    "no_stops = [t for t in lower_tokens if t not in stop_words]"
   ]
  },
  {
   "cell_type": "code",
   "execution_count": 22,
   "metadata": {},
   "outputs": [],
   "source": [
    "# Instantiate the WordNetLemmatizer\n",
    "wordnet_lemmatizer = WordNetLemmatizer()"
   ]
  },
  {
   "cell_type": "code",
   "execution_count": 23,
   "metadata": {},
   "outputs": [],
   "source": [
    "# Lemmatize all tokens into a new list: lemmatized\n",
    "lemmatized = [wordnet_lemmatizer.lemmatize(t) for t in no_stops]"
   ]
  },
  {
   "cell_type": "code",
   "execution_count": 24,
   "metadata": {},
   "outputs": [],
   "source": [
    "articles   = lemmatized.copy()\n",
    "vectorizer = TfidfVectorizer()\n",
    "X = vectorizer.fit_transform(articles)"
   ]
  },
  {
   "cell_type": "code",
   "execution_count": 25,
   "metadata": {},
   "outputs": [
    {
     "name": "stdout",
     "output_type": "stream",
     "text": [
      "['10', '11', '12', '13', '14', '15', '16', '17', '18', '19', '20', '21', '22', '23', '24', 'aaaaaaaaah', 'aaaaaaaah', 'aaaaaah', 'aaaah', 'aaaaugh', 'aaagh', 'aaah', 'aaauggh', 'aaaugh', 'aaauugh', 'aaggggh', 'aagh', 'aah', 'aaugh', 'aauuggghhh', 'aauuugh', 'aauuuuugh', 'aauuuves', 'able', 'about', 'absolutely', 'accent', 'accompanied', 'accomplished', 'act', 'acting', 'action', 'actually', 'advancing', 'adversary', 'affairs', 'afoot', 'afraid', 'african', 'after', 'again', 'against', 'ages', 'aggh', 'agh', 'agree', 'ah', 'ahh', 'ain', 'air', 'alarm', 'alice', 'alight', 'alive', 'all', 'allo', 'allowed', 'almighty', 'almost', 'aloft', 'along', 'already', 'alright', 'also', 'although', 'always', 'am', 'amazes', 'amazing', 'amen', 'an', 'anarcho', 'anchovies', 'and', 'angels', 'anging', 'angnor', 'animal', 'animator', 'another', 'answer', 'answers', 'anthrax', 'antioch', 'any', 'anybody', 'anyone', 'anything', 'anyway', 'anywhere', 'apart', 'apologise', 'appearing', 'appease', 'apples', 'approacheth', 'approaching', 'aptly', 'aquatic', 'aramaic', 'are', 'aren', 'argue', 'arimathea', 'arm', 'armaments', 'armed', 'armor', 'arms', 'army', 'around', 'arrange', 'arrows', 'art', 'arthur', 'as', 'aside', 'ask', 'asking', 'asks', 'assault', 'assist', 'assyria', 'at', 'attack', 'attend', 'attila', 'augh', 'auntie', 'aunties', 'autocracy', 'automatically', 'autonomous', 'autumn', 'auuuuuuuugh', 'avenged', 'averting', 'awaaaaay', 'awaaay', 'awaits', 'away', 'awfully', 'awhile', 'ay', 'ayy', 'baaaa', 'baby', 'back', 'bad', 'badger', 'badon', 'banana', 'band', 'bang', 'bangin', 'basic', 'basis', 'bastard', 'bastards', 'bathing', 'bats', 'battle', 'be', 'beacon', 'beast', 'beat', 'beautiful', 'became', 'because', 'become', 'bed', 'bedevere', 'beds', 'bedwere', 'been', 'behaviour', 'behind', 'behold', 'being', 'bells', 'bent', 'beside', 'best', 'bet', 'better', 'between', 'beyond', 'bi', 'bicker', 'bid', 'big', 'biggest', 'binding', 'bint', 'bird', 'birds', 'biscuits', 'bit', 'bitching', 'bite', 'biters', 'bits', 'black', 'bladders', 'blanket', 'bleed', 'bleeder', 'bless', 'blessing', 'blondes', 'blood', 'bloody', 'blow', 'blue', 'body', 'boil', 'boing', 'bois', 'bold', 'bon', 'bond', 'bones', 'bonk', 'book', 'boom', 'bors', 'bosom', 'bother', 'bottom', 'bottoms', 'bowels', 'bows', 'boys', 'brain', 'brained', 'brave', 'bravely', 'bravest', 'bread', 'breadth', 'breakfast', 'breath', 'bride', 'bridge', 'bridgekeeper', 'bridges', 'bring', 'bringing', 'bristol', 'britain', 'britons', 'broken', 'brother', 'brought', 'brunettes', 'brush', 'bugger', 'buggered', 'buggering', 'build', 'built', 'bum', 'bunny', 'burn', 'burned', 'burst', 'business', 'busy', 'but', 'buy', 'by', 'cadeau', 'caerbannog', 'call', 'called', 'camaaaaaargue', 'camelot', 'cameraman', 'can', 'cannot', 'capital', 'carp', 'carried', 'carries', 'carry', 'carrying', 'cart', 'cartoon', 'carve', 'carved', 'carving', 'case', 'cast', 'castanets', 'castle', 'cause', 'cave', 'centuries', 'cereals', 'ceremony', 'certain', 'certainly', 'chance', 'change', 'changed', 'chanting', 'chapter', 'character', 'characters', 'charge', 'charged', 'chaste', 'chastity', 'cheesy', 'cherries', 'chest', 'chicken', 'chickened', 'chickening', 'chickennn', 'chop', 'chops', 'chord', 'chorus', 'chosen', 'christ', 'chu', 'churches', 'cider', 'clack', 'clad', 'clang', 'clank', 'clap', 'clark', 'class', 'classes', 'clear', 'clever', 'climes', 'clllank', 'clop', 'closest', 'clue', 'clunk', 'coconut', 'coconuts', 'collective', 'color', 'come', 'comin', 'coming', 'command', 'commands', 'committed', 'commune', 'compared', 'completely', 'conclusion', 'conclusions', 'concorde', 'confuse', 'considerable', 'consult', 'consulted', 'continue', 'convinced', 'cop', 'cope', 'cornwall', 'cost', 'cough', 'could', 'couldn', 'count', 'counting', 'country', 'couple', 'courage', 'course', 'court', 'cover', 'covered', 'crapper', 'crash', 'creak', 'creature', 'creep', 'creeper', 'crone', 'cross', 'crossed', 'crowd', 'cruel', 'cry', 'crying', 'curtains', 'customer', 'cut', 'dad', 'daft', 'dance', 'dancing', 'danger', 'dangerous', 'dappy', 'dare', 'daring', 'dark', 'daughter', 'day', 'de', 'dead', 'deal', 'dear', 'death', 'decided', 'decision', 'deeds', 'defeat', 'defeator', 'delirious', 'demand', 'dennis', 'depart', 'depressing', 'derives', 'design', 'diaphragm', 'dictating', 'dictatorship', 'did', 'didn', 'die', 'died', 'differences', 'dine', 'dingo', 'direction', 'director', 'dirty', 'dis', 'discovered', 'discovers', 'disheartened', 'distress', 'distributing', 'divine', 'do', 'doctor', 'doctors', 'does', 'doesn', 'dogma', 'dogs', 'doing', 'domine', 'don', 'dona', 'donaeis', 'done', 'donkey', 'door', 'doors', 'dorsal', 'doubt', 'down', 'dragging', 'dragon', 'dramatic', 'dramatically', 'draw', 'dress', 'dressed', 'dresser', 'dressing', 'drilllll', 'drink', 'dub', 'duck', 'dull', 'dungeon', 'dunno', 'duty', 'dying', 'dynamite', 'each', 'earth', 'earthquakes', 'easily', 'east', 'easy', 'eat', 'eats', 'eccentric', 'ecky', 'economic', 'ector', 'eee', 'eet', 'effect', 'eh', 'ehh', 'eight', 'eis', 'eisrequiem', 'either', 'elbows', 'elderberries', 'electric', 'else', 'em', 'emperor', 'employed', 'empty', 'enchanter', 'end', 'enemies', 'england', 'english', 'enjoying', 'enough', 'enter', 'entered', 'entering', 'entrance', 'er', 'erbert', 'ere', 'erm', 'escape', 'est', 'etc', 'eternal', 'ethereal', 'european', 'even', 'ever', 'every', 'everyone', 'everything', 'evil', 'ewing', 'exactly', 'examine', 'example', 'excalibur', 'excepting', 'exciting', 'excuse', 'executive', 'expect', 'expensive', 'explain', 'exploiting', 'eyes', 'face', 'faced', 'fair', 'fallen', 'false', 'far', 'farcical', 'farewell', 'fart', 'fatal', 'father', 'favor', 'favorite', 'feast', 'feathers', 'feel', 'feet', 'feint', 'fell', 'fellows', 'felt', 'ferocity', 'fetchez', 'fiends', 'fifty', 'fight', 'film', 'filth', 'find', 'finds', 'fine', 'finest', 'fire', 'first', 'firstly', 'five', 'fled', 'flesh', 'flight', 'flights', 'flint', 'floats', 'fly', 'foe', 'fold', 'folk', 'follow', 'food', 'fooling', 'foot', 'footwork', 'for', 'force', 'forced', 'forest', 'forget', 'forgive', 'formed', 'formidable', 'forth', 'fortune', 'forty', 'forward', 'fought', 'foul', 'found', 'four', 'fourth', 'france', 'frank', 'freedom', 'french', 'friend', 'frighten', 'from', 'frontal', 'frozen', 'fruit', 'full', 'further', 'fwump', 'gable', 'gained', 'galahad', 'gallahad', 'gallantly', 'gave', 'gawain', 'gay', 'general', 'gentle', 'get', 'getting', 'giggle', 'girl', 'girls', 'git', 'give', 'given', 'glad', 'glass', 'glory', 'go', 'god', 'goes', 'going', 'gone', 'gonna', 'good', 'goodem', 'gorge', 'got', 'gouged', 'government', 'gra', 'grail', 'gravy', 'great', 'green', 'greetings', 'grenade', 'grin', 'grip', 'grips', 'grovel', 'groveling', 'guard', 'guarded', 'guards', 'guest', 'guests', 'guided', 'guiding', 'gurgle', 'guy', 'ha', 'haaa', 'hacked', 'had', 'hadn', 'hah', 'half', 'hall', 'hallo', 'halt', 'halves', 'ham', 'hamster', 'hand', 'handed', 'handle', 'handsome', 'hang', 'happens', 'happy', 'harmless', 'has', 'hasn', 'hast', 'haste', 'hat', 'have', 'haven', 'havin', 'having', 'haw', 'he', 'head', 'headed', 'headoff', 'heads', 'hear', 'heard', 'heart', 'hee', 'heee', 'heeh', 'heh', 'held', 'hell', 'hello', 'help', 'helpful', 'her', 'herbert', 'here', 'heroic', 'herring', 'hey', 'hic', 'hidden', 'high', 'higher', 'hill', 'hills', 'him', 'himself', 'his', 'historian', 'history', 'hiyaah', 'hiyah', 'hiyya', 'hm', 'hmm', 'ho', 'hoa', 'hold', 'holy', 'home', 'honestly', 'honored', 'hoo', 'hooray', 'hopeless', 'horn', 'horrendous', 'horse', 'hospital', 'hospitality', 'house', 'how', 'howl', 'huge', 'huh', 'humble', 'hundred', 'hurry', 'husk', 'huy', 'huyah', 'hya', 'hyy', 'icy', 'idea', 'identical', 'idiom', 'iesu', 'if', 'ignore', 'iiiiives', 'iiiives', 'ill', 'illegitimate', 'illustrious', 'immediately', 'impeccable', 'imperialist', 'impersonate', 'imprisoned', 'in', 'indeed', 'indefatigable', 'individually', 'inferior', 'influential', 'inherent', 'inside', 'inspector', 'interested', 'intermission', 'internal', 'into', 'invincible', 'is', 'islands', 'isn', 'it', 'its', 'ives', 'jam', 'jesus', 'join', 'jokes', 'joseph', 'joyful', 'ju', 'jump', 'just', 'keen', 'keep', 'keeper', 'keepers', 'kick', 'kicked', 'kill', 'killed', 'killer', 'kills', 'kind', 'king', 'kingdom', 'kings', 'kneecaps', 'kneeling', 'knees', 'knew', 'knight', 'knights', 'knock', 'knocked', 'know', 'known', 'knows', 'la', 'lad', 'laden', 'ladies', 'lads', 'lady', 'lair', 'lake', 'lambs', 'lancelot', 'land', 'language', 'lapin', 'large', 'largest', 'last', 'late', 'later', 'laughing', 'launcelot', 'laurels', 'lead', 'leads', 'leap', 'leaps', 'learning', 'least', 'leave', 'leaving', 'left', 'leg', 'legally', 'legendary', 'legs', 'length', 'less', 'let', 'level', 'liar', 'lie', 'liege', 'lies', 'life', 'like', 'limbs', 'line', 'listen', 'little', 'live', 'lived', 'liver', 'lives', 'living', 'll', 'lobbed', 'lobbest', 'logically', 'loimbard', 'lonely', 'long', 'longer', 'look', 'looked', 'looking', 'looks', 'looney', 'lord', 'lose', 'lost', 'lot', 'lovely', 'luck', 'lucky', 'lunged', 'lying', 'mac', 'mad', 'made', 'magne', 'main', 'maintain', 'major', 'majority', 'make', 'makes', 'making', 'man', 'mandate', 'mangled', 'mangy', 'manner', 'many', 'married', 'marry', 'marrying', 'martin', 'mashed', 'masses', 'master', 'mate', 'matter', 'may', 'maybe', 'mayest', 'mayhem', 'maynard', 'me', 'mean', 'meant', 'meanwhile', 'medical', 'medieval', 'meeting', 'men', 'mer', 'mercea', 'mercy', 'merger', 'message', 'met', 'middle', 'midget', 'might', 'mightiest', 'migrate', 'migratory', 'mile', 'mind', 'mine', 'minstrel', 'minstrels', 'minute', 'minutes', 'miserable', 'miss', 'mistake', 'mmm', 'model', 'moistened', 'moment', 'monks', 'monsieur', 'mooo', 'mooooooo', 'more', 'morning', 'mortally', 'most', 'mother', 'mount', 'move', 'much', 'mud', 'mumble', 'music', 'must', 'my', 'mystic', 'nador', 'name', 'named', 'names', 'narrator', 'nasty', 'naughty', 'nay', 'near', 'nearer', 'nearly', 'necessary', 'need', 'needs', 'neee', 'nervous', 'never', 'new', 'newt', 'next', 'ni', 'nibble', 'nice', 'nick', 'niggets', 'night', 'nightfall', 'nine', 'ninepence', 'nineteen', 'nnniggets', 'nnnnniggets', 'no', 'nobody', 'noise', 'non', 'none', 'nor', 'north', 'nose', 'nostrils', 'not', 'note', 'nothing', 'now', 'nu', 'number', 'object', 'obviously', 'occasion', 'of', 'off', 'offensive', 'officer', 'oh', 'ohh', 'old', 'olfin', 'on', 'once', 'one', 'ones', 'only', 'oo', 'ooh', 'oooh', 'oooo', 'oooohoohohooo', 'oooooooh', 'open', 'opening', 'opera', 'or', 'oral', 'orangutans', 'order', 'ordinary', 'other', 'oui', 'ounce', 'our', 'ours', 'out', 'outdated', 'outdoors', 'outrageous', 'outside', 'outwit', 'over', 'ow', 'owli', 'own', 'owns', 'pack', 'packing', 'pansy', 'particular', 'particularly', 'parts', 'party', 'pass', 'passed', 'passing', 'path', 'patsy', 'pause', 'pay', 'peasant', 'pen', 'penalty', 'pendragon', 'peng', 'people', 'performance', 'perhaps', 'peril', 'perilous', 'period', 'perpetuates', 'perpetuating', 'person', 'personally', 'persons', 'pestilence', 'picture', 'pie', 'pig', 'piglet', 'pikang', 'pimples', 'pin', 'pissing', 'pitched', 'place', 'plain', 'plan', 'please', 'plover', 'point', 'pointy', 'police', 'pond', 'ponds', 'pound', 'pounds', 'power', 'practice', 'praised', 'pram', 'pray', 'prepare', 'presence', 'present', 'preserving', 'prevent', 'previous', 'prince', 'princess', 'prisoner', 'private', 'problem', 'problems', 'proceed', 'profane', 'progress', 'properly', 'protect', 'proved', 'providence', 'psalms', 'ptoo', 'pull', 'pulp', 'punishment', 'pure', 'purely', 'purest', 'purpose', 'push', 'pussy', 'put', 'pweeng', 'quack', 'quarrel', 'quest', 'question', 'questions', 'quests', 'quick', 'quickly', 'quiet', 'quite', 'quoi', 'rabbit', 'radio', 'raised', 'ran', 'random', 'raped', 'rather', 'ratified', 'ratios', 're', 'reached', 'reads', 'ready', 'real', 'really', 'reared', 'reasonable', 'recently', 'recover', 'refuse', 'regulations', 'rejoicing', 'relax', 'relics', 'remain', 'remember', 'remembered', 'remove', 'removed', 'repressed', 'repressing', 'request', 'requiem', 'required', 'rescue', 'rest', 'resting', 'resumes', 'retold', 'retreat', 'return', 'returns', 'rewr', 'rheged', 'rhymes', 'rich', 'ridden', 'ride', 'riding', 'right', 'riiight', 'risk', 'roar', 'robin', 'robinson', 'rock', 'rocks', 'rode', 'rodent', 'roger', 'room', 'rope', 'round', 'routines', 'rrrr', 'ruffians', 'run', 'runes', 'running', 'sacred', 'sacrifice', 'sad', 'safety', 'said', 'saint', 'same', 'samite', 'sample', 'sank', 'saved', 'saw', 'sawwwww', 'saxons', 'say', 'saying', 'says', 'scales', 'scared', 'scarper', 'scene', 'scenes', 'scholar', 'schools', 'science', 'scimitar', 'score', 'scots', 'scott', 'scrape', 'scratch', 'scribble', 'search', 'second', 'see', 'seek', 'seem', 'seemed', 'seems', 'seen', 'seldom', 'self', 'sell', 'send', 'sense', 'sent', 'sentry', 'separate', 'sequin', 'servant', 'set', 'setting', 'settles', 'seven', 'sex', 'shall', 'shalt', 'shaped', 'sharp', 'she', 'sheep', 'shelter', 'shh', 'shimmering', 'shit', 'shivering', 'should', 'show', 'shows', 'shrubber', 'shrubberies', 'shrubbery', 'shut', 'side', 'sigh', 'sight', 'sign', 'signifying', 'silence', 'silly', 'simple', 'since', 'sing', 'singing', 'single', 'sink', 'sir', 'sire', 'siren', 'sister', 'sixteen', 'skip', 'slash', 'slightly', 'sloths', 'smack', 'small', 'smashed', 'smashing', 'smelt', 'snap', 'sneaking', 'sniff', 'snore', 'snows', 'snuff', 'so', 'social', 'society', 'sod', 'soft', 'soiled', 'soldier', 'some', 'somebody', 'someone', 'something', 'sometimes', 'somewhere', 'son', 'song', 'sonny', 'sons', 'soon', 'sorry', 'sort', 'south', 'sovereign', 'spake', 'spam', 'spank', 'spanked', 'spanking', 'speak', 'special', 'speed', 'spirit', 'splash', 'splat', 'splendid', 'split', 'spoken', 'sponge', 'spooky', 'spring', 'squeak', 'stab', 'stand', 'starling', 'started', 'stay', 'stayed', 'steady', 'stew', 'still', 'stone', 'stood', 'stop', 'stops', 'straight', 'strand', 'strange', 'strangers', 'strategy', 'streak', 'strength', 'stress', 'stretched', 'strewn', 'string', 'strongest', 'stuffed', 'stunner', 'stupid', 'successful', 'such', 'suddenly', 'suffered', 'suffice', 'suggesting', 'suit', 'summer', 'summon', 'sun', 'supports', 'suppose', 'supposed', 'supposing', 'supreme', 'sure', 'surely', 'surprise', 'suspenseful', 'swallow', 'swallows', 'swamp', 'sweet', 'sword', 'swords', 'sworn', 'syndicalism', 'syndicalist', 'system', 'table', 'tackle', 'tail', 'take', 'taken', 'taking', 'tale', 'talk', 'tall', 'tap', 'tart', 'task', 'taunt', 'taunting', 'tea', 'tear', 'teeth', 'tell', 'telling', 'temperate', 'tempered', 'temptation', 'temptress', 'terrible', 'terribly', 'test', 'testicles', 'than', 'thank', 'thanks', 'that', 'the', 'thee', 'their', 'them', 'then', 'there', 'therefore', 'these', 'they', 'thine', 'thing', 'things', 'think', 'third', 'thirds', 'thirty', 'this', 'thonk', 'those', 'thou', 'thought', 'thpppppt', 'thppppt', 'thpppt', 'thppt', 'three', 'threw', 'throat', 'through', 'throughout', 'throw', 'throwing', 'thsss', 'thud', 'thump', 'thursday', 'thwonk', 'thy', 'tie', 'til', 'tim', 'time', 'times', 'tinder', 'tiny', 'tired', 'tis', 'tit', 'to', 'today', 'together', 'told', 'tonight', 'too', 'took', 'tops', 'torment', 'totally', 'tough', 'towards', 'tower', 'town', 'tracts', 'trade', 'tragic', 'training', 'traveller', 'travellers', 'treat', 'tree', 'triumphs', 'tropical', 'trouble', 'trough', 'true', 'trumpets', 'trusty', 'try', 'turned', 'turns', 'twang', 'twenty', 'twin', 'two', 'twong', 'types', 'ugly', 'uh', 'uhh', 'ulk', 'um', 'umhm', 'umm', 'un', 'unarmed', 'unclog', 'under', 'understand', 'understanding', 'underwear', 'undressing', 'unfortunately', 'ungallant', 'unhealthy', 'union', 'unladen', 'unplugged', 'unsingable', 'until', 'up', 'upon', 'us', 'use', 'used', 'using', 'uther', 'utterly', 'uuggggggh', 'uugh', 'uuh', 'uuup', 'va', 'vache', 'vain', 'valiant', 'valleys', 'valor', 'van', 'varletesses', 'vary', 've', 'velocity', 'verses', 'very', 'vests', 'vicious', 'victory', 'villager', 'villagers', 'violence', 'visually', 'vital', 'voice', 'voluntarily', 'vote', 'vouchsafed', 'waa', 'wait', 'walk', 'walking', 'wanna', 'want', 'wants', 'war', 'warm', 'warmer', 'warned', 'warning', 'wart', 'was', 'wasn', 'waste', 'watch', 'water', 'watery', 'wave', 'way', 'ways', 'wayy', 'we', 'weapon', 'weather', 'wedding', 'wedlock', 'week', 'weekly', 'weighs', 'weight', 'welcome', 'well', 'went', 'were', 'wet', 'wetting', 'what', 'when', 'where', 'wherein', 'whether', 'which', 'while', 'whinny', 'whispering', 'who', 'whoa', 'whoever', 'whom', 'whop', 'whose', 'why', 'wicked', 'wide', 'wield', 'wife', 'will', 'wind', 'window', 'wings', 'winston', 'winter', 'wiper', 'wipers', 'wise', 'wishes', 'witch', 'witches', 'with', 'without', 'witness', 'woa', 'wom', 'woman', 'women', 'won', 'wonderful', 'wood', 'wooden', 'woods', 'woosh', 'word', 'words', 'work', 'worked', 'workers', 'working', 'worried', 'worry', 'worse', 'worst', 'worthy', 'would', 'wouldn', 'wound', 'wounded', 'wounding', 'writing', 'wrong', 'yapping', 'yay', 'ye', 'yeaaah', 'yeaah', 'yeah', 'year', 'yel', 'yelling', 'yellow', 'yes', 'yet', 'you', 'young', 'your', 'yours', 'yourself', 'yup', 'zhiv', 'zone', 'zoo', 'zoop', 'zoosh', 'zoot']\n",
      "(1881, 1795)\n"
     ]
    }
   ],
   "source": [
    "print(vectorizer.get_feature_names())\n",
    "print(X.shape)"
   ]
  }
 ],
 "metadata": {
  "kernelspec": {
   "display_name": "Python 3",
   "language": "python",
   "name": "python3"
  },
  "language_info": {
   "codemirror_mode": {
    "name": "ipython",
    "version": 3
   },
   "file_extension": ".py",
   "mimetype": "text/x-python",
   "name": "python",
   "nbconvert_exporter": "python",
   "pygments_lexer": "ipython3",
   "version": "3.6.8"
  }
 },
 "nbformat": 4,
 "nbformat_minor": 2
}
