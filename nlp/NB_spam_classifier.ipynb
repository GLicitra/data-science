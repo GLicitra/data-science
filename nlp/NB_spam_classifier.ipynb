{
 "cells": [
  {
   "cell_type": "markdown",
   "metadata": {},
   "source": [
    "## Fake news classification"
   ]
  },
  {
   "cell_type": "code",
   "execution_count": 1,
   "metadata": {
    "pycharm": {
     "is_executing": false
    }
   },
   "outputs": [],
   "source": [
    "import os \n",
    "import pandas  as pd\n",
    "import seaborn as sns\n",
    "import numpy   as np\n",
    "import matplotlib.pyplot as plt\n",
    "\n",
    "from sklearn.feature_extraction.text import CountVectorizer\n",
    "from sklearn.feature_extraction.text import TfidfVectorizer\n",
    "from sklearn.model_selection         import train_test_split\n",
    "from sklearn.naive_bayes             import MultinomialNB\n",
    "from sklearn                         import metrics\n",
    "\n",
    "from pathlib       import Path"
   ]
  },
  {
   "cell_type": "code",
   "execution_count": 2,
   "metadata": {
    "pycharm": {
     "is_executing": false
    }
   },
   "outputs": [
    {
     "name": "stdout",
     "text": [
      "- Root directory = C:\\Users\\giann\\repositories\\personal-core\n"
     ],
     "output_type": "stream"
    }
   ],
   "source": [
    "# set root directory\n",
    "path_root = Path(\"C:/Users/giann/repositories/personal-core\")\n",
    "os.chdir(path_root)\n",
    "print(f'- Root directory = {os.getcwd()}')"
   ]
  },
  {
   "cell_type": "markdown",
   "metadata": {},
   "source": [
    "### Import dataset"
   ]
  },
  {
   "cell_type": "code",
   "execution_count": 3,
   "metadata": {
    "pycharm": {
     "is_executing": false
    }
   },
   "outputs": [
    {
     "data": {
      "text/plain": "                                                   title  \\\n8476                        You Can Smell Hillary’s Fear   \n10294  Watch The Exact Moment Paul Ryan Committed Pol...   \n3608         Kerry to go to Paris in gesture of sympathy   \n10142  Bernie supporters on Twitter erupt in anger ag...   \n875     The Battle of New York: Why This Primary Matters   \n\n                                                    text label  \n8476   Daniel Greenfield, a Shillman Journalism Fello...  FAKE  \n10294  Google Pinterest Digg Linkedin Reddit Stumbleu...  FAKE  \n3608   U.S. Secretary of State John F. Kerry said Mon...  REAL  \n10142  — Kaydee King (@KaydeeKing) November 9, 2016 T...  FAKE  \n875    It's primary day in New York and front-runners...  REAL  ",
      "text/html": "<div>\n<style scoped>\n    .dataframe tbody tr th:only-of-type {\n        vertical-align: middle;\n    }\n\n    .dataframe tbody tr th {\n        vertical-align: top;\n    }\n\n    .dataframe thead th {\n        text-align: right;\n    }\n</style>\n<table border=\"1\" class=\"dataframe\">\n  <thead>\n    <tr style=\"text-align: right;\">\n      <th></th>\n      <th>title</th>\n      <th>text</th>\n      <th>label</th>\n    </tr>\n  </thead>\n  <tbody>\n    <tr>\n      <th>8476</th>\n      <td>You Can Smell Hillary’s Fear</td>\n      <td>Daniel Greenfield, a Shillman Journalism Fello...</td>\n      <td>FAKE</td>\n    </tr>\n    <tr>\n      <th>10294</th>\n      <td>Watch The Exact Moment Paul Ryan Committed Pol...</td>\n      <td>Google Pinterest Digg Linkedin Reddit Stumbleu...</td>\n      <td>FAKE</td>\n    </tr>\n    <tr>\n      <th>3608</th>\n      <td>Kerry to go to Paris in gesture of sympathy</td>\n      <td>U.S. Secretary of State John F. Kerry said Mon...</td>\n      <td>REAL</td>\n    </tr>\n    <tr>\n      <th>10142</th>\n      <td>Bernie supporters on Twitter erupt in anger ag...</td>\n      <td>— Kaydee King (@KaydeeKing) November 9, 2016 T...</td>\n      <td>FAKE</td>\n    </tr>\n    <tr>\n      <th>875</th>\n      <td>The Battle of New York: Why This Primary Matters</td>\n      <td>It's primary day in New York and front-runners...</td>\n      <td>REAL</td>\n    </tr>\n  </tbody>\n</table>\n</div>"
     },
     "metadata": {},
     "output_type": "execute_result",
     "execution_count": 3
    }
   ],
   "source": [
    "path_dataset = path_root / 'dataset/fake_or_real_news.csv'\n",
    "data = pd.read_csv(path_dataset, index_col = 0) "
   ]
  },
  {
   "cell_type": "code",
   "execution_count": 5,
   "outputs": [
    {
     "data": {
      "text/plain": "                                                   title  \\\n8476                        You Can Smell Hillary’s Fear   \n10294  Watch The Exact Moment Paul Ryan Committed Pol...   \n3608         Kerry to go to Paris in gesture of sympathy   \n10142  Bernie supporters on Twitter erupt in anger ag...   \n875     The Battle of New York: Why This Primary Matters   \n\n                                                    text label  \n8476   Daniel Greenfield, a Shillman Journalism Fello...  FAKE  \n10294  Google Pinterest Digg Linkedin Reddit Stumbleu...  FAKE  \n3608   U.S. Secretary of State John F. Kerry said Mon...  REAL  \n10142  — Kaydee King (@KaydeeKing) November 9, 2016 T...  FAKE  \n875    It's primary day in New York and front-runners...  REAL  ",
      "text/html": "<div>\n<style scoped>\n    .dataframe tbody tr th:only-of-type {\n        vertical-align: middle;\n    }\n\n    .dataframe tbody tr th {\n        vertical-align: top;\n    }\n\n    .dataframe thead th {\n        text-align: right;\n    }\n</style>\n<table border=\"1\" class=\"dataframe\">\n  <thead>\n    <tr style=\"text-align: right;\">\n      <th></th>\n      <th>title</th>\n      <th>text</th>\n      <th>label</th>\n    </tr>\n  </thead>\n  <tbody>\n    <tr>\n      <th>8476</th>\n      <td>You Can Smell Hillary’s Fear</td>\n      <td>Daniel Greenfield, a Shillman Journalism Fello...</td>\n      <td>FAKE</td>\n    </tr>\n    <tr>\n      <th>10294</th>\n      <td>Watch The Exact Moment Paul Ryan Committed Pol...</td>\n      <td>Google Pinterest Digg Linkedin Reddit Stumbleu...</td>\n      <td>FAKE</td>\n    </tr>\n    <tr>\n      <th>3608</th>\n      <td>Kerry to go to Paris in gesture of sympathy</td>\n      <td>U.S. Secretary of State John F. Kerry said Mon...</td>\n      <td>REAL</td>\n    </tr>\n    <tr>\n      <th>10142</th>\n      <td>Bernie supporters on Twitter erupt in anger ag...</td>\n      <td>— Kaydee King (@KaydeeKing) November 9, 2016 T...</td>\n      <td>FAKE</td>\n    </tr>\n    <tr>\n      <th>875</th>\n      <td>The Battle of New York: Why This Primary Matters</td>\n      <td>It's primary day in New York and front-runners...</td>\n      <td>REAL</td>\n    </tr>\n  </tbody>\n</table>\n</div>"
     },
     "metadata": {},
     "output_type": "execute_result",
     "execution_count": 5
    }
   ],
   "source": [
    "data.head()"
   ],
   "metadata": {
    "collapsed": false,
    "pycharm": {
     "name": "#%%\n",
     "is_executing": false
    }
   }
  },
  {
   "cell_type": "markdown",
   "metadata": {},
   "source": [
    "### Preprocess"
   ]
  },
  {
   "cell_type": "code",
   "execution_count": 4,
   "metadata": {
    "pycharm": {
     "is_executing": false
    }
   },
   "outputs": [],
   "source": [
    "# Create training and test sets\n",
    "X_train, X_test, y_train, y_test = train_test_split(data['text'], data['label'], test_size = 0.33, random_state = 53)"
   ]
  },
  {
   "cell_type": "markdown",
   "metadata": {},
   "source": [
    "**OPTION 1** "
   ]
  },
  {
   "cell_type": "code",
   "execution_count": 84,
   "metadata": {
    "pycharm": {
     "is_executing": false
    }
   },
   "outputs": [
    {
     "name": "stdout",
     "text": [
      "['00', '000', '0000', '00000031', '000035', '00006', '0001', '0001pt', '000ft', '000km']\n",
      "   00  000  0000  00000031  000035  00006  0001  0001pt  000ft  000km  ...  \\\n0   0    0     0         0       0      0     0       0      0      0  ...   \n1   0    0     0         0       0      0     0       0      0      0  ...   \n2   0    0     0         0       0      0     0       0      0      0  ...   \n3   0    0     0         0       0      0     0       0      0      0  ...   \n4   0    0     0         0       0      0     0       0      0      0  ...   \n\n   حلب  عربي  عن  لم  ما  محاولات  من  هذا  والمرضى  ยงade  \n0    0     0   0   0   0        0   0    0        0      0  \n1    0     0   0   0   0        0   0    0        0      0  \n2    0     0   0   0   0        0   0    0        0      0  \n3    0     0   0   0   0        0   0    0        0      0  \n4    0     0   0   0   0        0   0    0        0      0  \n\n[5 rows x 56922 columns]\n"
     ],
     "output_type": "stream"
    }
   ],
   "source": [
    "# Initialize a CountVectorizer object: count_vectorizer\n",
    "count_vectorizer = CountVectorizer(stop_words = 'english')\n",
    "# Transform the training data using only the 'text' column values: count_train \n",
    "count_train = count_vectorizer.fit_transform(X_train)\n",
    "# Transform the test data using only the 'text' column values: count_test \n",
    "count_test = count_vectorizer.transform(X_test)\n",
    "# Print the first 10 features of the count_vectorizer\n",
    "print(count_vectorizer.get_feature_names()[:10])\n",
    "# inspect count vector df\n",
    "count_df = pd.DataFrame(count_train.A, columns=count_vectorizer.get_feature_names())\n",
    "print(count_df.head())"
   ]
  },
  {
   "cell_type": "markdown",
   "metadata": {},
   "source": [
    "**OPTION 2** "
   ]
  },
  {
   "cell_type": "code",
   "execution_count": 85,
   "metadata": {
    "pycharm": {
     "is_executing": false
    }
   },
   "outputs": [
    {
     "name": "stdout",
     "text": [
      "['00', '000', '0000', '00000031', '000035', '00006', '0001', '0001pt', '000ft', '000km']\n  (1, 36831)\t0.10772488937433063\n  (1, 47506)\t0.1453906087746004\n  (1, 38823)\t0.06048803110658641\n  (1, 25684)\t0.10304209221897535\n  (1, 21568)\t0.10079209195663975\n  (1, 36087)\t0.1264867985438989\n  (1, 16814)\t0.10404977746548134\n  (1, 49203)\t0.16727408617843761\n  (1, 25686)\t0.13550453594288978\n  (1, 15927)\t0.4973826512693339\n  (1, 29531)\t0.1454406205718244\n  (1, 8399)\t0.08729542880625331\n  (1, 42534)\t0.06081715886809214\n  (1, 21881)\t0.21271688045815967\n  (1, 35256)\t0.12628385718450852\n  (1, 35783)\t0.3090269081882796\n  (1, 51896)\t0.11596517664605863\n  (1, 44520)\t0.4973826512693339\n  (1, 15924)\t0.3479045460649077\n  (1, 50628)\t0.061296988343109565\n  (1, 54177)\t0.1378262914471113\n  (1, 12105)\t0.1500806646147686\n  (1, 42470)\t0.07711040274149523\n  (2, 9445)\t0.22180388050235564\n  (2, 8779)\t0.19767342113068423\n  :\t:\n  (4, 39589)\t0.04099604806912218\n  (4, 41311)\t0.039355852313436045\n  (4, 46712)\t0.08271787236198132\n  (4, 18067)\t0.06067684170992696\n  (4, 13846)\t0.05183311673959348\n  (4, 8379)\t0.09473559573744214\n  (4, 11036)\t0.030828909605609574\n  (4, 5520)\t0.0637430658124305\n  (4, 12570)\t0.05600103025062297\n  (4, 48562)\t0.03485145216355402\n  (4, 54583)\t0.03462449374794357\n  (4, 634)\t0.03658750813461045\n  (4, 7531)\t0.0871532564896727\n  (4, 22361)\t0.062242222300884664\n  (4, 5675)\t0.06801875362608378\n  (4, 6635)\t0.028480415846691347\n  (4, 49205)\t0.05003908765226384\n  (4, 50690)\t0.03347420115927609\n  (4, 27842)\t0.03736980969631517\n  (4, 240)\t0.07957091724190325\n  (4, 43658)\t0.23138984763923748\n  (4, 19068)\t0.4279524303611997\n  (4, 55013)\t0.39067335502571005\n  (4, 12424)\t0.030531337840417488\n  (4, 17139)\t0.031687310860473314\n",
      "    00  000  0000  00000031  000035  00006  0001  0001pt  000ft  000km  ...  \\\n0  0.0  0.0   0.0       0.0     0.0    0.0   0.0     0.0    0.0    0.0  ...   \n1  0.0  0.0   0.0       0.0     0.0    0.0   0.0     0.0    0.0    0.0  ...   \n2  0.0  0.0   0.0       0.0     0.0    0.0   0.0     0.0    0.0    0.0  ...   \n3  0.0  0.0   0.0       0.0     0.0    0.0   0.0     0.0    0.0    0.0  ...   \n4  0.0  0.0   0.0       0.0     0.0    0.0   0.0     0.0    0.0    0.0  ...   \n\n   حلب  عربي   عن   لم   ما  محاولات   من  هذا  والمرضى  ยงade  \n0  0.0   0.0  0.0  0.0  0.0      0.0  0.0  0.0      0.0    0.0  \n1  0.0   0.0  0.0  0.0  0.0      0.0  0.0  0.0      0.0    0.0  \n2  0.0   0.0  0.0  0.0  0.0      0.0  0.0  0.0      0.0    0.0  \n3  0.0   0.0  0.0  0.0  0.0      0.0  0.0  0.0      0.0    0.0  \n4  0.0   0.0  0.0  0.0  0.0      0.0  0.0  0.0      0.0    0.0  \n\n[5 rows x 56922 columns]\n"
     ],
     "output_type": "stream"
    }
   ],
   "source": [
    "# Initialize a TfidfVectorizer object: tfidf_vectorizer\n",
    "tfidf_vectorizer = TfidfVectorizer(stop_words = 'english', max_df = 0.7)\n",
    "# Transform the training data: tfidf_train \n",
    "tfidf_train = tfidf_vectorizer.fit_transform(X_train)\n",
    "# Transform the test data: tfidf_test \n",
    "tfidf_test = tfidf_vectorizer.transform(X_test)\n",
    "# Print the first 10 features & first 5 vectors of the tfidf training data\n",
    "print(tfidf_vectorizer.get_feature_names()[:10])\n",
    "print(tfidf_train[:5])\n",
    "# inspec tfidf_df\n",
    "tfidf_df = pd.DataFrame(tfidf_train.A, columns=tfidf_vectorizer.get_feature_names())\n",
    "print(tfidf_df.head())"
   ]
  },
  {
   "cell_type": "markdown",
   "metadata": {},
   "source": [
    "### Check difference between the two approaches"
   ]
  },
  {
   "cell_type": "code",
   "execution_count": 86,
   "metadata": {
    "pycharm": {
     "is_executing": false
    }
   },
   "outputs": [
    {
     "name": "stdout",
     "text": [
      "set()\nFalse\n"
     ],
     "output_type": "stream"
    }
   ],
   "source": [
    "# Calculate the difference in columns: difference\n",
    "difference = set(count_df.columns) - set(tfidf_df.columns)\n",
    "print(difference)\n",
    "# Check whether the DataFrames are equal\n",
    "print(count_df.equals(tfidf_df))"
   ]
  },
  {
   "cell_type": "markdown",
   "metadata": {},
   "source": [
    "### Train with count matrix"
   ]
  },
  {
   "cell_type": "code",
   "execution_count": 62,
   "metadata": {
    "pycharm": {
     "is_executing": false
    }
   },
   "outputs": [
    {
     "data": {
      "text/plain": "MultinomialNB(alpha=1.0, class_prior=None, fit_prior=True)"
     },
     "metadata": {},
     "output_type": "execute_result",
     "execution_count": 62
    }
   ],
   "source": [
    "# Instantiate a Multinomial Naive Bayes classifier: nb_classifier\n",
    "nb_classifier = MultinomialNB()\n",
    "nb_classifier.fit(count_train, y_train)"
   ]
  },
  {
   "cell_type": "code",
   "execution_count": 63,
   "metadata": {
    "pycharm": {
     "is_executing": false
    }
   },
   "outputs": [],
   "source": [
    "y_pred = nb_classifier.predict(count_test)"
   ]
  },
  {
   "cell_type": "code",
   "execution_count": 64,
   "metadata": {
    "pycharm": {
     "is_executing": false
    }
   },
   "outputs": [
    {
     "name": "stdout",
     "text": [
      "Accuracy score  = 89.0 %\n"
     ],
     "output_type": "stream"
    }
   ],
   "source": [
    "# Calculate the accuracy score: score\n",
    "score = metrics.accuracy_score(y_test, y_pred)\n",
    "print(f'Accuracy score  = {round(score,2)*100} %')"
   ]
  },
  {
   "cell_type": "code",
   "execution_count": 65,
   "metadata": {
    "pycharm": {
     "is_executing": false
    }
   },
   "outputs": [
    {
     "name": "stdout",
     "text": [
      "[[ 865  143]\n [  80 1003]]\n"
     ],
     "output_type": "stream"
    }
   ],
   "source": [
    "# Calculate the confusion matrix: cm\n",
    "cm = metrics.confusion_matrix(y_test, y_pred, labels=['FAKE', 'REAL'])\n",
    "print(cm)"
   ]
  },
  {
   "cell_type": "code",
   "execution_count": 66,
   "metadata": {
    "pycharm": {
     "is_executing": false
    }
   },
   "outputs": [
    {
     "data": {
      "text/plain": "Text(91.68, 0.5, 'True Value')"
     },
     "metadata": {},
     "output_type": "execute_result",
     "execution_count": 66
    },
    {
     "data": {
      "text/plain": "<Figure size 432x288 with 1 Axes>",
      "image/png": "[encoded data removed]"
     },
     "metadata": {
      "needs_background": "light"
     },
     "output_type": "display_data"
    }
   ],
   "source": [
    "sns.heatmap(cm, square = True, annot = True, cbar = False)\n",
    "plt.xlabel('Predicted Value')\n",
    "plt.ylabel('True Value')"
   ]
  },
  {
   "cell_type": "markdown",
   "metadata": {},
   "source": [
    "### Train with count tf-idf"
   ]
  },
  {
   "cell_type": "code",
   "execution_count": 67,
   "metadata": {
    "pycharm": {
     "is_executing": false
    }
   },
   "outputs": [
    {
     "data": {
      "text/plain": "MultinomialNB(alpha=1.0, class_prior=None, fit_prior=True)"
     },
     "metadata": {},
     "output_type": "execute_result",
     "execution_count": 67
    }
   ],
   "source": [
    "# Instantiate a Multinomial Naive Bayes classifier: nb_classifier\n",
    "nb_classifier = MultinomialNB()\n",
    "nb_classifier.fit(tfidf_train, y_train)"
   ]
  },
  {
   "cell_type": "code",
   "execution_count": 68,
   "metadata": {
    "pycharm": {
     "is_executing": false
    }
   },
   "outputs": [],
   "source": [
    "y_pred = nb_classifier.predict(tfidf_test)"
   ]
  },
  {
   "cell_type": "code",
   "execution_count": 69,
   "metadata": {
    "pycharm": {
     "is_executing": false
    }
   },
   "outputs": [
    {
     "name": "stdout",
     "text": [
      "Accuracy score with tf-idf = 86.0 %\n"
     ],
     "output_type": "stream"
    }
   ],
   "source": [
    "# Calculate the accuracy score: score\n",
    "score = metrics.accuracy_score(y_test, y_pred)\n",
    "print(f'Accuracy score with tf-idf = {round(score,2)*100} %')"
   ]
  },
  {
   "cell_type": "code",
   "execution_count": 70,
   "metadata": {
    "pycharm": {
     "is_executing": false
    }
   },
   "outputs": [
    {
     "name": "stdout",
     "text": [
      "[[ 739  269]\n [  31 1052]]\n"
     ],
     "output_type": "stream"
    }
   ],
   "source": [
    "# Calculate the confusion matrix: cm\n",
    "cm = metrics.confusion_matrix(y_test, y_pred, labels=['FAKE', 'REAL'])\n",
    "print(cm)"
   ]
  },
  {
   "cell_type": "code",
   "execution_count": 71,
   "metadata": {
    "pycharm": {
     "is_executing": false
    }
   },
   "outputs": [
    {
     "data": {
      "text/plain": "Text(91.68, 0.5, 'True Value')"
     },
     "metadata": {},
     "output_type": "execute_result",
     "execution_count": 71
    },
    {
     "data": {
      "text/plain": "<Figure size 432x288 with 1 Axes>",
      "image/png": "[encoded data removed]"
     },
     "metadata": {
      "needs_background": "light"
     },
     "output_type": "display_data"
    }
   ],
   "source": [
    "sns.heatmap(cm, square = True, annot = True, cbar = False)\n",
    "plt.xlabel('Predicted Value')\n",
    "plt.ylabel('True Value')"
   ]
  },
  {
   "cell_type": "markdown",
   "metadata": {},
   "source": [
    "### Model Improving tf-idf\n",
    "- Tweaking alpha levels;\n",
    "- Trying a new classification model;\n",
    "- Training on a larger dataset;\n",
    "- Improving text preprocessing."
   ]
  },
  {
   "cell_type": "code",
   "execution_count": 72,
   "metadata": {
    "pycharm": {
     "is_executing": false
    }
   },
   "outputs": [],
   "source": [
    "# Create the list of alphas: alphas\n",
    "alphas = np.arange(0, 1, 0.1)"
   ]
  },
  {
   "cell_type": "code",
   "execution_count": 73,
   "metadata": {
    "pycharm": {
     "is_executing": false
    }
   },
   "outputs": [],
   "source": [
    "# Define train_and_predict()\n",
    "def train_and_predict(alpha):\n",
    "    # Instantiate the classifier: nb_classifier\n",
    "    nb_classifier = MultinomialNB(alpha = alpha)\n",
    "    # Fit to the training data\n",
    "    nb_classifier.fit(tfidf_train, y_train)\n",
    "    # Predict the labels: pred\n",
    "    pred = nb_classifier.predict(tfidf_test)\n",
    "    # Compute accuracy: score\n",
    "    score = metrics.accuracy_score(y_test, pred)\n",
    "    return score"
   ]
  },
  {
   "cell_type": "code",
   "execution_count": 74,
   "metadata": {
    "pycharm": {
     "is_executing": false
    }
   },
   "outputs": [
    {
     "name": "stdout",
     "text": [
      "Alpha:  0.0\n",
      "Score:  0.8813964610234337\n\nAlpha:  0.1\nScore:  0.8976566236250598\n\nAlpha:  0.2\nScore:  0.8938307030129125\n\nAlpha:  0.30000000000000004\nScore:  0.8900047824007652\n\nAlpha:  0.4\n",
      "Score:  0.8857006217120995\n\nAlpha:  0.5\n",
      "Score:  0.8842659014825442\n\nAlpha:  0.6000000000000001\nScore:  0.874701099952176\n\nAlpha:  0.7000000000000001\nScore:  0.8703969392635102\n\nAlpha:  0.8\nScore:  0.8660927785748446\n\nAlpha:  0.9\n",
      "Score:  0.8589191774270684\n\n"
     ],
     "output_type": "stream"
    },
    {
     "name": "stderr",
     "text": [
      "C:\\Anaconda3\\envs\\personal-core\\lib\\site-packages\\sklearn\\naive_bayes.py:507: UserWarning: alpha too small will result in numeric errors, setting alpha = 1.0e-10\n  'setting alpha = %.1e' % _ALPHA_MIN)\n"
     ],
     "output_type": "stream"
    }
   ],
   "source": [
    "# Iterate over the alphas and print the corresponding score\n",
    "for alpha in alphas:\n",
    "    print('Alpha: ', alpha)\n",
    "    print('Score: ', train_and_predict(alpha))\n",
    "    print()"
   ]
  },
  {
   "cell_type": "markdown",
   "metadata": {},
   "source": [
    "### Model Inspection"
   ]
  },
  {
   "cell_type": "code",
   "execution_count": 75,
   "metadata": {
    "pycharm": {
     "is_executing": false
    }
   },
   "outputs": [],
   "source": [
    "# Get the class labels: class_labels\n",
    "class_labels = nb_classifier.classes_"
   ]
  },
  {
   "cell_type": "code",
   "execution_count": 76,
   "metadata": {
    "pycharm": {
     "is_executing": false
    }
   },
   "outputs": [],
   "source": [
    "# Extract the features: feature_names\n",
    "feature_names = tfidf_vectorizer.get_feature_names()"
   ]
  },
  {
   "cell_type": "code",
   "execution_count": 77,
   "metadata": {
    "pycharm": {
     "is_executing": false
    }
   },
   "outputs": [],
   "source": [
    "# Zip the feature names together with the coefficient array and sort by weights: feat_with_weights\n",
    "feat_with_weights = sorted(zip(nb_classifier.coef_[0], feature_names))"
   ]
  },
  {
   "cell_type": "code",
   "execution_count": 78,
   "metadata": {
    "pycharm": {
     "is_executing": false
    }
   },
   "outputs": [
    {
     "name": "stdout",
     "text": [
      "FAKE [(-11.316312804238807, '0000'), (-11.316312804238807, '000035'), (-11.316312804238807, '0001'), (-11.316312804238807, '0001pt'), (-11.316312804238807, '000km'), (-11.316312804238807, '0011'), (-11.316312804238807, '006s'), (-11.316312804238807, '007'), (-11.316312804238807, '007s'), (-11.316312804238807, '008s'), (-11.316312804238807, '0099'), (-11.316312804238807, '00am'), (-11.316312804238807, '00p'), (-11.316312804238807, '00pm'), (-11.316312804238807, '014'), (-11.316312804238807, '015'), (-11.316312804238807, '018'), (-11.316312804238807, '01am'), (-11.316312804238807, '020'), (-11.316312804238807, '023')]\n"
     ],
     "output_type": "stream"
    }
   ],
   "source": [
    "# Print the first class label and the top 20 feat_with_weights entries\n",
    "print(class_labels[0], feat_with_weights[:20])"
   ]
  },
  {
   "cell_type": "code",
   "execution_count": 79,
   "metadata": {
    "pycharm": {
     "is_executing": false
    }
   },
   "outputs": [
    {
     "name": "stdout",
     "text": [
      "REAL [(-7.742481952533027, 'states'), (-7.717550034444668, 'rubio'), (-7.703583809227384, 'voters'), (-7.654774992495461, 'house'), (-7.649398936153309, 'republicans'), (-7.6246184189367, 'bush'), (-7.616556675728881, 'percent'), (-7.545789237823644, 'people'), (-7.516447881078008, 'new'), (-7.448027933291952, 'party'), (-7.411148410203476, 'cruz'), (-7.410910239085596, 'state'), (-7.35748985914622, 'republican'), (-7.33649923948987, 'campaign'), (-7.2854057032685775, 'president'), (-7.2166878130917755, 'sanders'), (-7.108263114902301, 'obama'), (-6.724771332488041, 'clinton'), (-6.5653954389926845, 'said'), (-6.328486029596207, 'trump')]\n"
     ],
     "output_type": "stream"
    }
   ],
   "source": [
    "# Print the second class label and the bottom 20 feat_with_weights entries\n",
    "print(class_labels[1], feat_with_weights[-20:])"
   ]
  }
 ],
 "metadata": {
  "kernelspec": {
   "name": "personal-core",
   "language": "python",
   "display_name": "personal-core"
  },
  "language_info": {
   "codemirror_mode": {
    "name": "ipython",
    "version": 3
   },
   "file_extension": ".py",
   "mimetype": "text/x-python",
   "name": "python",
   "nbconvert_exporter": "python",
   "pygments_lexer": "ipython3",
   "version": "3.6.8"
  },
  "pycharm": {
   "stem_cell": {
    "cell_type": "raw",
    "source": [],
    "metadata": {
     "collapsed": false
    }
   }
  }
 },
 "nbformat": 4,
 "nbformat_minor": 2
}