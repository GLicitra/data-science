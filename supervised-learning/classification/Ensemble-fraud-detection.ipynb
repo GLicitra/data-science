{
 "cells": [
  {
   "cell_type": "markdown",
   "metadata": {},
   "source": [
    "### Fraud detection\n",
    "A supervised learning approach"
   ]
  },
  {
   "cell_type": "code",
   "execution_count": 46,
   "metadata": {},
   "outputs": [],
   "source": [
    "import os\n",
    "import pandas as pd\n",
    "import matplotlib.pyplot as plt\n",
    "from imblearn.over_sampling  import SMOTE\n",
    "from sklearn.model_selection import train_test_split\n",
    "from sklearn.linear_model    import LogisticRegression\n",
    "from sklearn.metrics         import classification_report\n",
    "from sklearn.metrics         import confusion_matrix\n",
    "from sklearn.metrics         import accuracy_score\n",
    "from sklearn.metrics         import roc_auc_score\n",
    "\n",
    "from pathlib                 import Path\n",
    "from imblearn.pipeline       import Pipeline \n",
    "from sklearn.ensemble        import RandomForestClassifier\n",
    "\n",
    "from sklearn.metrics import average_precision_score\n",
    "from sklearn.metrics import precision_recall_curve\n",
    "\n",
    "from sklearn.ensemble import VotingClassifier\n",
    "from sklearn.tree     import DecisionTreeClassifier\n",
    "\n",
    "from sklearn.model_selection import GridSearchCV"
   ]
  },
  {
   "cell_type": "code",
   "execution_count": 4,
   "metadata": {},
   "outputs": [
    {
     "name": "stdout",
     "output_type": "stream",
     "text": [
      "- Root directory = C:\\Users\\giann\\data-science-core\n"
     ]
    }
   ],
   "source": [
    "# set root directory\n",
    "path_root = Path(\"C:/Users/giann/data-science-core\")\n",
    "os.chdir(path_root)\n",
    "print(f'- Root directory = {os.getcwd()}')"
   ]
  },
  {
   "cell_type": "markdown",
   "metadata": {},
   "source": [
    "### Data & and detect how imbalanced is the class"
   ]
  },
  {
   "cell_type": "code",
   "execution_count": 11,
   "metadata": {},
   "outputs": [
    {
     "data": {
      "text/html": [
       "<div>\n",
       "<style scoped>\n",
       "    .dataframe tbody tr th:only-of-type {\n",
       "        vertical-align: middle;\n",
       "    }\n",
       "\n",
       "    .dataframe tbody tr th {\n",
       "        vertical-align: top;\n",
       "    }\n",
       "\n",
       "    .dataframe thead th {\n",
       "        text-align: right;\n",
       "    }\n",
       "</style>\n",
       "<table border=\"1\" class=\"dataframe\">\n",
       "  <thead>\n",
       "    <tr style=\"text-align: right;\">\n",
       "      <th></th>\n",
       "      <th>Time</th>\n",
       "      <th>V1</th>\n",
       "      <th>V2</th>\n",
       "      <th>V3</th>\n",
       "      <th>V4</th>\n",
       "      <th>V5</th>\n",
       "      <th>V6</th>\n",
       "      <th>V7</th>\n",
       "      <th>V8</th>\n",
       "      <th>V9</th>\n",
       "      <th>...</th>\n",
       "      <th>V21</th>\n",
       "      <th>V22</th>\n",
       "      <th>V23</th>\n",
       "      <th>V24</th>\n",
       "      <th>V25</th>\n",
       "      <th>V26</th>\n",
       "      <th>V27</th>\n",
       "      <th>V28</th>\n",
       "      <th>Amount</th>\n",
       "      <th>Class</th>\n",
       "    </tr>\n",
       "  </thead>\n",
       "  <tbody>\n",
       "    <tr>\n",
       "      <th>0</th>\n",
       "      <td>64</td>\n",
       "      <td>1.212511</td>\n",
       "      <td>-0.099054</td>\n",
       "      <td>-1.192094</td>\n",
       "      <td>0.286324</td>\n",
       "      <td>2.160516</td>\n",
       "      <td>3.616314</td>\n",
       "      <td>-0.404207</td>\n",
       "      <td>0.842331</td>\n",
       "      <td>0.169360</td>\n",
       "      <td>...</td>\n",
       "      <td>-0.167496</td>\n",
       "      <td>-0.494695</td>\n",
       "      <td>-0.149785</td>\n",
       "      <td>1.011227</td>\n",
       "      <td>0.883548</td>\n",
       "      <td>-0.329434</td>\n",
       "      <td>0.020370</td>\n",
       "      <td>0.017037</td>\n",
       "      <td>34.70</td>\n",
       "      <td>0</td>\n",
       "    </tr>\n",
       "    <tr>\n",
       "      <th>1</th>\n",
       "      <td>64</td>\n",
       "      <td>-0.658305</td>\n",
       "      <td>0.406791</td>\n",
       "      <td>2.037461</td>\n",
       "      <td>-0.291298</td>\n",
       "      <td>0.147910</td>\n",
       "      <td>-0.350857</td>\n",
       "      <td>0.945373</td>\n",
       "      <td>-0.172560</td>\n",
       "      <td>0.025133</td>\n",
       "      <td>...</td>\n",
       "      <td>-0.156096</td>\n",
       "      <td>-0.238805</td>\n",
       "      <td>0.089877</td>\n",
       "      <td>0.421195</td>\n",
       "      <td>-0.352487</td>\n",
       "      <td>0.074783</td>\n",
       "      <td>-0.094192</td>\n",
       "      <td>-0.092493</td>\n",
       "      <td>54.99</td>\n",
       "      <td>0</td>\n",
       "    </tr>\n",
       "    <tr>\n",
       "      <th>2</th>\n",
       "      <td>124</td>\n",
       "      <td>1.105253</td>\n",
       "      <td>0.541842</td>\n",
       "      <td>0.839421</td>\n",
       "      <td>2.570933</td>\n",
       "      <td>-0.279517</td>\n",
       "      <td>-0.423062</td>\n",
       "      <td>0.088019</td>\n",
       "      <td>0.011622</td>\n",
       "      <td>-0.715756</td>\n",
       "      <td>...</td>\n",
       "      <td>-0.137434</td>\n",
       "      <td>-0.460991</td>\n",
       "      <td>0.189397</td>\n",
       "      <td>0.556329</td>\n",
       "      <td>0.185786</td>\n",
       "      <td>-0.189030</td>\n",
       "      <td>0.000208</td>\n",
       "      <td>0.026167</td>\n",
       "      <td>6.24</td>\n",
       "      <td>0</td>\n",
       "    </tr>\n",
       "    <tr>\n",
       "      <th>3</th>\n",
       "      <td>128</td>\n",
       "      <td>1.239495</td>\n",
       "      <td>-0.182609</td>\n",
       "      <td>0.155058</td>\n",
       "      <td>-0.928892</td>\n",
       "      <td>-0.746227</td>\n",
       "      <td>-1.235608</td>\n",
       "      <td>-0.061695</td>\n",
       "      <td>-0.125223</td>\n",
       "      <td>0.984938</td>\n",
       "      <td>...</td>\n",
       "      <td>0.146077</td>\n",
       "      <td>0.481119</td>\n",
       "      <td>-0.140019</td>\n",
       "      <td>0.538261</td>\n",
       "      <td>0.710720</td>\n",
       "      <td>-0.621382</td>\n",
       "      <td>0.036867</td>\n",
       "      <td>0.010963</td>\n",
       "      <td>8.80</td>\n",
       "      <td>0</td>\n",
       "    </tr>\n",
       "    <tr>\n",
       "      <th>4</th>\n",
       "      <td>132</td>\n",
       "      <td>-1.571359</td>\n",
       "      <td>1.687508</td>\n",
       "      <td>0.734670</td>\n",
       "      <td>1.293350</td>\n",
       "      <td>-0.217532</td>\n",
       "      <td>-0.002677</td>\n",
       "      <td>0.147364</td>\n",
       "      <td>0.515362</td>\n",
       "      <td>-0.372442</td>\n",
       "      <td>...</td>\n",
       "      <td>0.048549</td>\n",
       "      <td>0.377256</td>\n",
       "      <td>-0.030436</td>\n",
       "      <td>0.117608</td>\n",
       "      <td>-0.060520</td>\n",
       "      <td>-0.296550</td>\n",
       "      <td>-0.481570</td>\n",
       "      <td>-0.167897</td>\n",
       "      <td>10.00</td>\n",
       "      <td>0</td>\n",
       "    </tr>\n",
       "  </tbody>\n",
       "</table>\n",
       "<p>5 rows × 31 columns</p>\n",
       "</div>"
      ],
      "text/plain": [
       "   Time        V1        V2        V3        V4        V5        V6        V7  \\\n",
       "0    64  1.212511 -0.099054 -1.192094  0.286324  2.160516  3.616314 -0.404207   \n",
       "1    64 -0.658305  0.406791  2.037461 -0.291298  0.147910 -0.350857  0.945373   \n",
       "2   124  1.105253  0.541842  0.839421  2.570933 -0.279517 -0.423062  0.088019   \n",
       "3   128  1.239495 -0.182609  0.155058 -0.928892 -0.746227 -1.235608 -0.061695   \n",
       "4   132 -1.571359  1.687508  0.734670  1.293350 -0.217532 -0.002677  0.147364   \n",
       "\n",
       "         V8        V9  ...       V21       V22       V23       V24       V25  \\\n",
       "0  0.842331  0.169360  ... -0.167496 -0.494695 -0.149785  1.011227  0.883548   \n",
       "1 -0.172560  0.025133  ... -0.156096 -0.238805  0.089877  0.421195 -0.352487   \n",
       "2  0.011622 -0.715756  ... -0.137434 -0.460991  0.189397  0.556329  0.185786   \n",
       "3 -0.125223  0.984938  ...  0.146077  0.481119 -0.140019  0.538261  0.710720   \n",
       "4  0.515362 -0.372442  ...  0.048549  0.377256 -0.030436  0.117608 -0.060520   \n",
       "\n",
       "        V26       V27       V28  Amount  Class  \n",
       "0 -0.329434  0.020370  0.017037   34.70      0  \n",
       "1  0.074783 -0.094192 -0.092493   54.99      0  \n",
       "2 -0.189030  0.000208  0.026167    6.24      0  \n",
       "3 -0.621382  0.036867  0.010963    8.80      0  \n",
       "4 -0.296550 -0.481570 -0.167897   10.00      0  \n",
       "\n",
       "[5 rows x 31 columns]"
      ]
     },
     "execution_count": 11,
     "metadata": {},
     "output_type": "execute_result"
    }
   ],
   "source": [
    "path_dataset = path_root / 'dataset/creditcard_sampledata.csv'\n",
    "data = pd.read_csv(path_dataset, index_col = 0)\n",
    "X = data.drop('Class', axis = 1).values\n",
    "y = data['Class'].values\n",
    "data.head()"
   ]
  },
  {
   "cell_type": "code",
   "execution_count": 9,
   "metadata": {},
   "outputs": [
    {
     "name": "stdout",
     "output_type": "stream",
     "text": [
      "o Count the occurrences of fraud and no fraud\n",
      "0    7983\n",
      "1      17\n",
      "Name: Class, dtype: int64\n",
      "o Ratio of fraud cases\n",
      "0    99.7875\n",
      "1     0.2125\n",
      "Name: Class, dtype: float64\n"
     ]
    }
   ],
   "source": [
    "print(\"o Count the occurrences of fraud and no fraud\")\n",
    "occ = data['Class'].value_counts()\n",
    "print(occ)\n",
    "print(\"o Ratio of fraud cases\")\n",
    "print( (occ / len(data['Class'])) *100 )"
   ]
  },
  {
   "cell_type": "code",
   "execution_count": 14,
   "metadata": {},
   "outputs": [
    {
     "data": {
      "image/png": "[encoded data removed]",
      "text/plain": [
       "<Figure size 432x288 with 1 Axes>"
      ]
     },
     "metadata": {
      "needs_background": "light"
     },
     "output_type": "display_data"
    }
   ],
   "source": [
    "# Plot our data by running our plot data function on X and y\n",
    "def plot_data(X, y) :\n",
    "    plt.scatter(X[y == 0, 2], X[y == 0, 3], label=\"Class #0\", alpha=0.5, linewidth=0.15)\n",
    "    plt.scatter(X[y == 1, 2], X[y == 1, 3], label=\"Class #1\", alpha=0.5, linewidth=0.15, c='r')\n",
    "    plt.legend()\n",
    "    plt.grid()\n",
    "\n",
    "plot_data(X, y)"
   ]
  },
  {
   "cell_type": "markdown",
   "metadata": {},
   "source": [
    "### Resample with SMOTE to account for imbalancness\n",
    "NB: resample only on train set"
   ]
  },
  {
   "cell_type": "code",
   "execution_count": 16,
   "metadata": {},
   "outputs": [
    {
     "data": {
      "image/png": "[encoded data removed]",
      "text/plain": [
       "<Figure size 432x288 with 1 Axes>"
      ]
     },
     "metadata": {
      "needs_background": "light"
     },
     "output_type": "display_data"
    }
   ],
   "source": [
    "# split data\n",
    "X_train, X_test, y_train, y_test = train_test_split(X, y, test_size=0.2, random_state=0, stratify = y)\n",
    "\n",
    "# Define the resampling method\n",
    "method = SMOTE(sampling_strategy = 'minority')\n",
    "# Apply resampling to the training data only\n",
    "X_resampled, y_resampled = method.fit_sample(X_train, y_train)\n",
    "# Plot\n",
    "plot_data(X_resampled, y_resampled)"
   ]
  },
  {
   "cell_type": "markdown",
   "metadata": {},
   "source": [
    "### Train and evaluate"
   ]
  },
  {
   "cell_type": "code",
   "execution_count": 18,
   "metadata": {},
   "outputs": [],
   "source": [
    "# Continue fitting the model and obtain predictions\n",
    "model = LogisticRegression(solver = 'lbfgs')\n",
    "model.fit(X_resampled, y_resampled)\n",
    "# Get your performance metrics\n",
    "predicted = model.predict(X_test)"
   ]
  },
  {
   "cell_type": "code",
   "execution_count": 20,
   "metadata": {},
   "outputs": [
    {
     "name": "stdout",
     "output_type": "stream",
     "text": [
      "Classification report:\n",
      "               precision    recall  f1-score   support\n",
      "\n",
      "           0       1.00      0.94      0.97      1597\n",
      "           1       0.03      1.00      0.06         3\n",
      "\n",
      "   micro avg       0.94      0.94      0.94      1600\n",
      "   macro avg       0.51      0.97      0.51      1600\n",
      "weighted avg       1.00      0.94      0.97      1600\n",
      "\n",
      "Confusion matrix:\n",
      " [[1495  102]\n",
      " [   0    3]]\n"
     ]
    }
   ],
   "source": [
    "# Print the classifcation report and confusion matrix\n",
    "print('Classification report:\\n', classification_report(y_test, predicted))\n",
    "conf_mat = confusion_matrix(y_true=y_test, y_pred=predicted)\n",
    "print('Confusion matrix:\\n', conf_mat)"
   ]
  },
  {
   "cell_type": "markdown",
   "metadata": {},
   "source": [
    "### Training with pipeline"
   ]
  },
  {
   "cell_type": "code",
   "execution_count": 21,
   "metadata": {},
   "outputs": [],
   "source": [
    "# Define which resampling method and which ML model to use in the pipeline\n",
    "resampling = SMOTE(sampling_strategy = 'minority')\n",
    "model      = LogisticRegression(solver = 'lbfgs')\n",
    "pipeline   = Pipeline([('SMOTE', resampling), ('Logistic Regression', model)])\n",
    "pipeline.fit(X_train, y_train) \n",
    "predicted = pipeline.predict(X_test)"
   ]
  },
  {
   "cell_type": "code",
   "execution_count": 22,
   "metadata": {},
   "outputs": [
    {
     "name": "stdout",
     "output_type": "stream",
     "text": [
      "Classifcation report:\n",
      "               precision    recall  f1-score   support\n",
      "\n",
      "           0       1.00      0.94      0.97      1597\n",
      "           1       0.03      1.00      0.06         3\n",
      "\n",
      "   micro avg       0.94      0.94      0.94      1600\n",
      "   macro avg       0.52      0.97      0.51      1600\n",
      "weighted avg       1.00      0.94      0.97      1600\n",
      "\n",
      "Confusion matrix:\n",
      " [[1503   94]\n",
      " [   0    3]]\n"
     ]
    }
   ],
   "source": [
    "# Obtain the results from the classification report and confusion matrix \n",
    "print('Classifcation report:\\n', classification_report(y_test, predicted))\n",
    "conf_mat = confusion_matrix(y_true=y_test, y_pred=predicted)\n",
    "print('Confusion matrix:\\n', conf_mat)"
   ]
  },
  {
   "cell_type": "markdown",
   "metadata": {},
   "source": [
    "## Ensemble method"
   ]
  },
  {
   "cell_type": "code",
   "execution_count": 23,
   "metadata": {},
   "outputs": [
    {
     "data": {
      "text/html": [
       "<div>\n",
       "<style scoped>\n",
       "    .dataframe tbody tr th:only-of-type {\n",
       "        vertical-align: middle;\n",
       "    }\n",
       "\n",
       "    .dataframe tbody tr th {\n",
       "        vertical-align: top;\n",
       "    }\n",
       "\n",
       "    .dataframe thead th {\n",
       "        text-align: right;\n",
       "    }\n",
       "</style>\n",
       "<table border=\"1\" class=\"dataframe\">\n",
       "  <thead>\n",
       "    <tr style=\"text-align: right;\">\n",
       "      <th></th>\n",
       "      <th>V1</th>\n",
       "      <th>V2</th>\n",
       "      <th>V3</th>\n",
       "      <th>V4</th>\n",
       "      <th>V5</th>\n",
       "      <th>V6</th>\n",
       "      <th>V7</th>\n",
       "      <th>V8</th>\n",
       "      <th>V9</th>\n",
       "      <th>V10</th>\n",
       "      <th>...</th>\n",
       "      <th>V21</th>\n",
       "      <th>V22</th>\n",
       "      <th>V23</th>\n",
       "      <th>V24</th>\n",
       "      <th>V25</th>\n",
       "      <th>V26</th>\n",
       "      <th>V27</th>\n",
       "      <th>V28</th>\n",
       "      <th>Amount</th>\n",
       "      <th>Class</th>\n",
       "    </tr>\n",
       "  </thead>\n",
       "  <tbody>\n",
       "    <tr>\n",
       "      <th>221547</th>\n",
       "      <td>-1.191668</td>\n",
       "      <td>0.428409</td>\n",
       "      <td>1.640028</td>\n",
       "      <td>-1.848859</td>\n",
       "      <td>-0.870903</td>\n",
       "      <td>-0.204849</td>\n",
       "      <td>-0.385675</td>\n",
       "      <td>0.352793</td>\n",
       "      <td>-1.098301</td>\n",
       "      <td>-0.334597</td>\n",
       "      <td>...</td>\n",
       "      <td>0.507173</td>\n",
       "      <td>1.292565</td>\n",
       "      <td>-0.467752</td>\n",
       "      <td>1.244887</td>\n",
       "      <td>0.697707</td>\n",
       "      <td>0.059375</td>\n",
       "      <td>-0.319964</td>\n",
       "      <td>-0.017444</td>\n",
       "      <td>27.44</td>\n",
       "      <td>0</td>\n",
       "    </tr>\n",
       "    <tr>\n",
       "      <th>184524</th>\n",
       "      <td>1.966614</td>\n",
       "      <td>-0.450087</td>\n",
       "      <td>-1.228586</td>\n",
       "      <td>0.142873</td>\n",
       "      <td>-0.150627</td>\n",
       "      <td>-0.543590</td>\n",
       "      <td>-0.076217</td>\n",
       "      <td>-0.108390</td>\n",
       "      <td>0.973310</td>\n",
       "      <td>-0.029903</td>\n",
       "      <td>...</td>\n",
       "      <td>0.124055</td>\n",
       "      <td>0.564916</td>\n",
       "      <td>-0.039331</td>\n",
       "      <td>-0.283904</td>\n",
       "      <td>0.186400</td>\n",
       "      <td>0.192932</td>\n",
       "      <td>-0.039155</td>\n",
       "      <td>-0.071314</td>\n",
       "      <td>35.95</td>\n",
       "      <td>0</td>\n",
       "    </tr>\n",
       "    <tr>\n",
       "      <th>91201</th>\n",
       "      <td>1.528452</td>\n",
       "      <td>-1.296191</td>\n",
       "      <td>-0.890677</td>\n",
       "      <td>-2.504028</td>\n",
       "      <td>0.803202</td>\n",
       "      <td>3.350793</td>\n",
       "      <td>-1.633016</td>\n",
       "      <td>0.815350</td>\n",
       "      <td>-1.884692</td>\n",
       "      <td>1.465259</td>\n",
       "      <td>...</td>\n",
       "      <td>-0.412088</td>\n",
       "      <td>-1.017485</td>\n",
       "      <td>0.129566</td>\n",
       "      <td>0.948048</td>\n",
       "      <td>0.287826</td>\n",
       "      <td>-0.396592</td>\n",
       "      <td>0.042997</td>\n",
       "      <td>0.025853</td>\n",
       "      <td>28.40</td>\n",
       "      <td>0</td>\n",
       "    </tr>\n",
       "    <tr>\n",
       "      <th>26115</th>\n",
       "      <td>-0.774614</td>\n",
       "      <td>1.100916</td>\n",
       "      <td>0.679080</td>\n",
       "      <td>1.034016</td>\n",
       "      <td>0.168633</td>\n",
       "      <td>0.874582</td>\n",
       "      <td>0.209454</td>\n",
       "      <td>0.770550</td>\n",
       "      <td>-0.558106</td>\n",
       "      <td>-0.165442</td>\n",
       "      <td>...</td>\n",
       "      <td>0.011158</td>\n",
       "      <td>0.146017</td>\n",
       "      <td>-0.130401</td>\n",
       "      <td>-0.848815</td>\n",
       "      <td>0.005698</td>\n",
       "      <td>-0.183295</td>\n",
       "      <td>0.282940</td>\n",
       "      <td>0.123856</td>\n",
       "      <td>43.20</td>\n",
       "      <td>0</td>\n",
       "    </tr>\n",
       "    <tr>\n",
       "      <th>201292</th>\n",
       "      <td>-1.075860</td>\n",
       "      <td>1.361160</td>\n",
       "      <td>1.496972</td>\n",
       "      <td>2.242604</td>\n",
       "      <td>1.314751</td>\n",
       "      <td>0.272787</td>\n",
       "      <td>1.005246</td>\n",
       "      <td>0.132932</td>\n",
       "      <td>-1.558317</td>\n",
       "      <td>0.484216</td>\n",
       "      <td>...</td>\n",
       "      <td>0.254485</td>\n",
       "      <td>0.530692</td>\n",
       "      <td>-0.651119</td>\n",
       "      <td>0.626389</td>\n",
       "      <td>1.040212</td>\n",
       "      <td>0.249501</td>\n",
       "      <td>-0.146745</td>\n",
       "      <td>0.029714</td>\n",
       "      <td>10.59</td>\n",
       "      <td>0</td>\n",
       "    </tr>\n",
       "  </tbody>\n",
       "</table>\n",
       "<p>5 rows × 30 columns</p>\n",
       "</div>"
      ],
      "text/plain": [
       "              V1        V2        V3        V4        V5        V6        V7  \\\n",
       "221547 -1.191668  0.428409  1.640028 -1.848859 -0.870903 -0.204849 -0.385675   \n",
       "184524  1.966614 -0.450087 -1.228586  0.142873 -0.150627 -0.543590 -0.076217   \n",
       "91201   1.528452 -1.296191 -0.890677 -2.504028  0.803202  3.350793 -1.633016   \n",
       "26115  -0.774614  1.100916  0.679080  1.034016  0.168633  0.874582  0.209454   \n",
       "201292 -1.075860  1.361160  1.496972  2.242604  1.314751  0.272787  1.005246   \n",
       "\n",
       "              V8        V9       V10  ...       V21       V22       V23  \\\n",
       "221547  0.352793 -1.098301 -0.334597  ...  0.507173  1.292565 -0.467752   \n",
       "184524 -0.108390  0.973310 -0.029903  ...  0.124055  0.564916 -0.039331   \n",
       "91201   0.815350 -1.884692  1.465259  ... -0.412088 -1.017485  0.129566   \n",
       "26115   0.770550 -0.558106 -0.165442  ...  0.011158  0.146017 -0.130401   \n",
       "201292  0.132932 -1.558317  0.484216  ...  0.254485  0.530692 -0.651119   \n",
       "\n",
       "             V24       V25       V26       V27       V28  Amount  Class  \n",
       "221547  1.244887  0.697707  0.059375 -0.319964 -0.017444   27.44      0  \n",
       "184524 -0.283904  0.186400  0.192932 -0.039155 -0.071314   35.95      0  \n",
       "91201   0.948048  0.287826 -0.396592  0.042997  0.025853   28.40      0  \n",
       "26115  -0.848815  0.005698 -0.183295  0.282940  0.123856   43.20      0  \n",
       "201292  0.626389  1.040212  0.249501 -0.146745  0.029714   10.59      0  \n",
       "\n",
       "[5 rows x 30 columns]"
      ]
     },
     "execution_count": 23,
     "metadata": {},
     "output_type": "execute_result"
    }
   ],
   "source": [
    "# Load data\n",
    "path_dataset = path_root / 'dataset/creditcard_sampledata_2.csv'\n",
    "data = pd.read_csv(path_dataset, index_col = 0)\n",
    "X = data.drop('Class', axis = 1).values\n",
    "y = data['Class'].values\n",
    "data.head()"
   ]
  },
  {
   "cell_type": "code",
   "execution_count": 25,
   "metadata": {},
   "outputs": [
    {
     "name": "stdout",
     "output_type": "stream",
     "text": [
      "Natural accuracy = 95.89 %\n"
     ]
    }
   ],
   "source": [
    "# Evaluate 'natural accuracy' to use as baseline \n",
    "total_obs = len(y)\n",
    "non_fraud = [i for i in y if i == 0]\n",
    "count_non_fraud = non_fraud.count(0)\n",
    "# Calculate the percentage of non fraud observations in the dataset\n",
    "percentage = (float(count_non_fraud)/float(total_obs)) * 100\n",
    "# Print the percentage: this is our \"natural accuracy\" by doing nothing\n",
    "print(f\"Natural accuracy = {round(percentage, 2)} %\" )"
   ]
  },
  {
   "cell_type": "markdown",
   "metadata": {},
   "source": [
    "### Train with Random forest"
   ]
  },
  {
   "cell_type": "code",
   "execution_count": 28,
   "metadata": {},
   "outputs": [],
   "source": [
    "# Split your data into training and test set\n",
    "X_train, X_test, y_train, y_test = train_test_split(X, y, test_size=0.3, random_state=0)\n",
    "# Define the model as the random forest\n",
    "model = RandomForestClassifier(random_state = 5, n_estimators = 10)\n",
    "# Fit the model to our training set\n",
    "model.fit(X_train, y_train)\n",
    "# Obtain predictions from the test data \n",
    "predicted = model.predict(X_test)\n",
    "# Predict probabilities\n",
    "probs = model.predict_proba(X_test)"
   ]
  },
  {
   "cell_type": "code",
   "execution_count": 32,
   "metadata": {},
   "outputs": [
    {
     "name": "stdout",
     "output_type": "stream",
     "text": [
      "o Random Forest accuracy = 99.09 %\n",
      "o AUC score = 93.98 %\n",
      "o Classification report\n",
      "              precision    recall  f1-score   support\n",
      "\n",
      "           0       0.99      1.00      1.00      2099\n",
      "           1       0.97      0.80      0.88        91\n",
      "\n",
      "   micro avg       0.99      0.99      0.99      2190\n",
      "   macro avg       0.98      0.90      0.94      2190\n",
      "weighted avg       0.99      0.99      0.99      2190\n",
      "\n",
      "o Confusion matrix\n",
      "[[2097    2]\n",
      " [  18   73]]\n"
     ]
    }
   ],
   "source": [
    "# Print performance metric\n",
    "print(f\"o Random Forest accuracy = {round(accuracy_score(y_test, predicted) * 100, 2)} %\")\n",
    "print(f\"o AUC score = {round(roc_auc_score(y_test, probs[:,1]) * 100, 2)} %\")\n",
    "print(\"o Classification report\")\n",
    "print(classification_report(y_test, predicted))\n",
    "print(\"o Confusion matrix\")\n",
    "print(confusion_matrix(y_test, predicted))"
   ]
  },
  {
   "cell_type": "code",
   "execution_count": 33,
   "metadata": {},
   "outputs": [
    {
     "data": {
      "image/png": "[encoded data removed]",
      "text/plain": [
       "<Figure size 432x288 with 1 Axes>"
      ]
     },
     "metadata": {
      "needs_background": "light"
     },
     "output_type": "display_data"
    }
   ],
   "source": [
    "# Calculate average precision and the PR curve\n",
    "average_precision = average_precision_score(y_test, predicted)\n",
    "# Obtain precision and recall \n",
    "precision, recall, _ = precision_recall_curve(y_test, predicted)\n",
    "# Plot the recall precision tradeoff\n",
    "plt.fill_between(recall, precision)\n",
    "plt.title(f'2-class precision recall curve AP = {round(average_precision,2)}')\n",
    "plt.show()"
   ]
  },
  {
   "cell_type": "markdown",
   "metadata": {},
   "source": [
    "**NB**: AUCROC says how well can this classifier be expected to perform in general, at a variety of different baseline probabilities?\" but precision and recall don't."
   ]
  },
  {
   "cell_type": "markdown",
   "metadata": {},
   "source": [
    "### Model Tuning"
   ]
  },
  {
   "cell_type": "markdown",
   "metadata": {},
   "source": [
    "**OPTION 1**: Define the model with `balanced_subsample`"
   ]
  },
  {
   "cell_type": "code",
   "execution_count": 39,
   "metadata": {},
   "outputs": [
    {
     "name": "stdout",
     "output_type": "stream",
     "text": [
      "o AUC score = 96.7 %\n",
      "              precision    recall  f1-score   support\n",
      "\n",
      "           0       0.99      1.00      1.00      2099\n",
      "           1       0.99      0.80      0.88        91\n",
      "\n",
      "   micro avg       0.99      0.99      0.99      2190\n",
      "   macro avg       0.99      0.90      0.94      2190\n",
      "weighted avg       0.99      0.99      0.99      2190\n",
      "\n",
      "o Confusion_matrix\n",
      "[[2098    1]\n",
      " [  18   73]]\n"
     ]
    }
   ],
   "source": [
    "model = RandomForestClassifier(class_weight = 'balanced_subsample', random_state = 5, n_estimators = 100)\n",
    "# Fit your training model to your training set\n",
    "model.fit(X_train, y_train)\n",
    "# Obtain the predicted values and probabilities from the model \n",
    "predicted = model.predict(X_test)\n",
    "probs = model.predict_proba(X_test)\n",
    "# Print the roc_auc_score, the classification report and confusion matrix\n",
    "print(f\"o AUC score = {round(roc_auc_score(y_test, probs[:,1]) * 100 , 2)} %\")\n",
    "print(classification_report(y_test, predicted))\n",
    "print(\"o Confusion_matrix\")\n",
    "print(confusion_matrix(y_test, predicted))"
   ]
  },
  {
   "cell_type": "markdown",
   "metadata": {},
   "source": [
    "**OPTION2**: using `GridSearchCV`"
   ]
  },
  {
   "cell_type": "code",
   "execution_count": 40,
   "metadata": {},
   "outputs": [],
   "source": [
    "# Define the parameter sets to test\n",
    "param_grid = {'n_estimators': [1, 30], \n",
    "              'max_features': ['auto', 'log2'],  \n",
    "              'max_depth'   : [4, 8] , \n",
    "              'criterion'   : ['gini', 'entropy']}\n",
    "\n",
    "# Define the model to use\n",
    "model = RandomForestClassifier(random_state = 5, n_estimators = 100)\n",
    "# Combine the parameter sets with the defined model: Optimize per Recall 'minimize false negative'\n",
    "CV_model = GridSearchCV(estimator = model, param_grid = param_grid, cv = 5, scoring = 'recall', n_jobs = -1)"
   ]
  },
  {
   "cell_type": "code",
   "execution_count": 41,
   "metadata": {},
   "outputs": [],
   "source": [
    "# Fit the model to our training data and obtain best parameters\n",
    "CV_model.fit(X_train, y_train)\n",
    "# show best parameters\n",
    "CV_model.best_params_\n",
    "# get best model\n",
    "bestRF    = CV_model.best_estimator_\n",
    "predicted = bestRF.predict(X_test)\n",
    "probs     = bestRF.predict_proba(X_test)"
   ]
  },
  {
   "cell_type": "code",
   "execution_count": 45,
   "metadata": {},
   "outputs": [
    {
     "name": "stdout",
     "output_type": "stream",
     "text": [
      "o AUC score = 96.08 %\n",
      "              precision    recall  f1-score   support\n",
      "\n",
      "           0       0.99      1.00      1.00      2099\n",
      "           1       0.99      0.80      0.88        91\n",
      "\n",
      "   micro avg       0.99      0.99      0.99      2190\n",
      "   macro avg       0.99      0.90      0.94      2190\n",
      "weighted avg       0.99      0.99      0.99      2190\n",
      "\n",
      "o Confusion matrix\n",
      "[[2098    1]\n",
      " [  18   73]]\n"
     ]
    }
   ],
   "source": [
    "print(f\"o AUC score = {round(roc_auc_score(y_test, probs[:,1]) * 100, 2)} %\")\n",
    "print(classification_report(y_test, predicted))\n",
    "print(\"o Confusion matrix\")\n",
    "print(confusion_matrix(y_test, predicted))"
   ]
  },
  {
   "cell_type": "markdown",
   "metadata": {},
   "source": [
    "### Ensemble methods\n",
    "Let's now combine three machine learning models into one, to improve our "
   ]
  },
  {
   "cell_type": "code",
   "execution_count": 53,
   "metadata": {},
   "outputs": [],
   "source": [
    "# Define the three classifiers to use in the ensemble\n",
    "clf1 = LogisticRegression(class_weight={0:1, 1:15}, random_state=5, solver = 'lbfgs', max_iter = 1000)\n",
    "clf2 = RandomForestClassifier(class_weight={0:1, 1:12}, criterion='gini', max_depth=8, max_features='log2',\n",
    "                              min_samples_leaf=10, n_estimators=30, n_jobs=-1, random_state=5)\n",
    "clf3 = DecisionTreeClassifier(random_state=5, class_weight=\"balanced\")"
   ]
  },
  {
   "cell_type": "code",
   "execution_count": 56,
   "metadata": {},
   "outputs": [],
   "source": [
    "# Combine the classifiers in the ensemble model\n",
    "ensemble_model = VotingClassifier(estimators=[('lr', clf1), ('rf', clf2), ('dt', clf3)], voting='hard')\n",
    "ensemble_model.fit(X_train, y_train)\n",
    "predicted = ensemble_model.predict(X_test)\n",
    "#probs     = ensemble_model.predict_proba(X_test)"
   ]
  },
  {
   "cell_type": "code",
   "execution_count": 58,
   "metadata": {},
   "outputs": [
    {
     "name": "stdout",
     "output_type": "stream",
     "text": [
      "              precision    recall  f1-score   support\n",
      "\n",
      "           0       0.99      1.00      0.99      2099\n",
      "           1       0.89      0.86      0.87        91\n",
      "\n",
      "   micro avg       0.99      0.99      0.99      2190\n",
      "   macro avg       0.94      0.93      0.93      2190\n",
      "weighted avg       0.99      0.99      0.99      2190\n",
      "\n",
      "[[2089   10]\n",
      " [  13   78]]\n"
     ]
    }
   ],
   "source": [
    "# Get the results \n",
    "#print(roc_auc_score(y_test, probs[:,1]))\n",
    "print(classification_report(y_test, predicted))\n",
    "print(confusion_matrix(y_test, predicted))"
   ]
  },
  {
   "cell_type": "markdown",
   "metadata": {},
   "source": [
    "### Adjust Weights\n",
    "You've just seen that the Voting Classifier allows you to improve your fraud detection performance, by combining good aspects from multiple models. Now let's try to adjust the weights we give to these models. By increasing or decreasing weights you can play with how much emphasis you give to a particular model relative to the rest. This comes in handy when a certain model has overall better performance than the rest, but you still want to combine aspects of the others to further improve your results."
   ]
  },
  {
   "cell_type": "code",
   "execution_count": 59,
   "metadata": {},
   "outputs": [],
   "source": [
    "# Define the ensemble model: weight more Random Forest\n",
    "ensemble_model = VotingClassifier(estimators = [('lr', clf1), ('rf', clf2), ('gnb', clf3)], \n",
    "                                  voting     = 'soft', \n",
    "                                  weights    = [1, 4, 1], \n",
    "                                  flatten_transform = True)\n",
    "\n",
    "ensemble_model.fit(X_train, y_train)\n",
    "predicted = ensemble_model.predict(X_test)\n",
    "probs     = ensemble_model.predict_proba(X_test)"
   ]
  },
  {
   "cell_type": "code",
   "execution_count": 60,
   "metadata": {},
   "outputs": [
    {
     "name": "stdout",
     "output_type": "stream",
     "text": [
      "0.970744834013057\n",
      "              precision    recall  f1-score   support\n",
      "\n",
      "           0       0.99      1.00      1.00      2099\n",
      "           1       0.94      0.86      0.90        91\n",
      "\n",
      "   micro avg       0.99      0.99      0.99      2190\n",
      "   macro avg       0.97      0.93      0.95      2190\n",
      "weighted avg       0.99      0.99      0.99      2190\n",
      "\n",
      "[[2094    5]\n",
      " [  13   78]]\n"
     ]
    }
   ],
   "source": [
    "# Get the results \n",
    "print(roc_auc_score(y_test, probs[:,1]))\n",
    "print(classification_report(y_test, predicted))\n",
    "print(confusion_matrix(y_test, predicted))"
   ]
  }
 ],
 "metadata": {
  "kernelspec": {
   "display_name": "Python 3",
   "language": "python",
   "name": "python3"
  },
  "language_info": {
   "codemirror_mode": {
    "name": "ipython",
    "version": 3
   },
   "file_extension": ".py",
   "mimetype": "text/x-python",
   "name": "python",
   "nbconvert_exporter": "python",
   "pygments_lexer": "ipython3",
   "version": "3.6.8"
  }
 },
 "nbformat": 4,
 "nbformat_minor": 2
}
