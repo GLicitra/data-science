{
 "cells": [
  {
   "cell_type": "markdown",
   "metadata": {},
   "source": [
    "# Tutorial on how to perform SQL query via python"
   ]
  },
  {
   "cell_type": "code",
   "execution_count": 1,
   "metadata": {},
   "outputs": [],
   "source": [
    "# import library\n",
    "import pyodbc\n",
    "import pandas as pd\n",
    "import time"
   ]
  },
  {
   "attachments": {
    "SQLserver.PNG": {
     "image/png": "[encoded data removed]"
    }
   },
   "cell_type": "markdown",
   "metadata": {},
   "source": [
    "Normally in SQL server one need to specify the connection as follow:<br>\n",
    "![SQLserver.PNG](attachment:SQLserver.PNG) <br>\n",
    "In `python` this is done connecting the engine using `pyodbc`. "
   ]
  },
  {
   "cell_type": "markdown",
   "metadata": {},
   "source": [
    "## Read SQL table"
   ]
  },
  {
   "cell_type": "code",
   "execution_count": 11,
   "metadata": {},
   "outputs": [
    {
     "name": "stdout",
     "output_type": "stream",
     "text": [
      "   RiskEndDate\n",
      "0     19900228\n",
      "--------------------------------------------------\n",
      "Elapsed time: 0.6 [sec]\n",
      "CPU process time: 0.0 [sec]\n",
      "--------------------------------------------------\n"
     ]
    }
   ],
   "source": [
    "# query with no options\n",
    "\n",
    "# measure time\n",
    "t1_start = time.perf_counter()\n",
    "t2_start = time.process_time()\n",
    "\n",
    "cnxn        = pyodbc.connect(r'Driver={SQL Server};SERVER=SRPADSQL0211.insim.biz\\DIAGNOSTICS,48000;Database=QEDB;Trusted_Connection=yes')\n",
    "sql_query   = \"SELECT DISTINCT RiskEndDate from Qedb.[ex].[AI_RiskResidualMonthly] ORDER BY RiskEndDate\"\n",
    "MonthDates  = pd.read_sql(sql_query, cnxn)\n",
    "cnxn.close()\n",
    "print(MonthDates.head(1))\n",
    "\n",
    "t1_stop = time.perf_counter()\n",
    "t2_stop = time.process_time()\n",
    "print(\"--------------------------------------------------\")\n",
    "print(\"Elapsed time: %.1f [sec]\"     % ((t1_stop - t1_start)))\n",
    "print(\"CPU process time: %.1f [sec]\" % ((t2_stop - t2_start)))\n",
    "print(\"--------------------------------------------------\") "
   ]
  },
  {
   "cell_type": "code",
   "execution_count": 9,
   "metadata": {},
   "outputs": [
    {
     "name": "stdout",
     "output_type": "stream",
     "text": [
      "Empty DataFrame\n",
      "Columns: [StartDate, EndDate, InfoCode, InstrumentName, ReturnCurrency, TotalReturn, MarketCapEUR, PITUniverseFlag, GICS1, MixedSector, GICS2, GICS3, RiskCountry]\n",
      "Index: []\n"
     ]
    }
   ],
   "source": [
    "# query with options: \n",
    "StartDate  = 20190101\n",
    "EndDate    = 20190201\n",
    "UniverseID = 20007\n",
    "cnxn      = pyodbc.connect(r'Driver={SQL Server};SERVER=SRPADSQL0211.insim.biz\\DIAGNOSTICS,48000;Database=QEDB;Trusted_Connection=yes')\n",
    "sql       = f\"EXEC [prv].[GetStockReturns] @StartDate={StartDate}, @EndDate={EndDate}, @Currency='EUR', @UniverseID={UniverseID};\"\n",
    "df_stocks = pd.read_sql(sql, cnxn)\n",
    "cnxn.close()    \n",
    "print(df_stocks.head())"
   ]
  },
  {
   "cell_type": "markdown",
   "metadata": {},
   "source": [
    "## Write SQL table"
   ]
  },
  {
   "cell_type": "markdown",
   "metadata": {},
   "source": [
    "The code below write the table one by one to the SQL DB (**not** very efficient)."
   ]
  },
  {
   "cell_type": "code",
   "execution_count": null,
   "metadata": {},
   "outputs": [],
   "source": [
    "# open connection\n",
    "cnxn = pyodbc.connect(r'Driver={SQL Server};SERVER=SRPADSQL0211.insim.biz\\DIAGNOSTICS,48000;Database=QEDB;Trusted_Connection=yes')\n",
    "# Create a cursor from the connection\n",
    "cursor = cnxn.cursor()\n",
    "\n",
    "for index, entry in BayesTargetDB.iterrows() :\n",
    "    # INSERT entry:  \n",
    "    RiskModelName  = entry[\"RiskModelName\"]\n",
    "    EndDate        = entry[\"EndDate\"]\n",
    "    Item_          = entry[\"Item_\"] \n",
    "    TargetExposure = entry[\"TargetExposure\"]\n",
    "    TargetWeight   = entry[\"TargetWeight\"] \n",
    "    cursor.execute(\"INSERT INTO Qedb.[ex].[AI_BayesianTargets] (RiskModelName, EndDate, Item_, TargetExposure, TargetWeight) values (?, ?, ?, ?, ?)\", \n",
    "                                                                RiskModelName, EndDate, Item_, TargetExposure, TargetWeight)\n",
    "    cnxn.commit()\n",
    "\n",
    "# close connection\n",
    "cnxn.close() "
   ]
  },
  {
   "cell_type": "markdown",
   "metadata": {},
   "source": [
    "Whenever possible use the `bulkupload` package to upload the table in bulk. \n",
    "Installation can be simply done via `pip install --user bulkupload-1.0.4.tar.gz`;"
   ]
  },
  {
   "cell_type": "code",
   "execution_count": null,
   "metadata": {},
   "outputs": [],
   "source": [
    "import bulkupload\n",
    "# NB: keep the same column order of the database, e.g.:\n",
    "df = df[['col1', 'col2', 'col3']] \n",
    "# my_df is a pandas dataframe with attributes consistent w.r.t the SQL table\n",
    "df.to_sql_bulk(table     = 'TABLENAME', \n",
    "               schema    = 'ex', \n",
    "               database  = 'QEDB', \n",
    "               driver    = 'SQL Server', \n",
    "               server    = 'SRPADSQL0211.insim.biz\\DIAGNOSTICS,48000',\n",
    "               if_exists = 'append')"
   ]
  },
  {
   "cell_type": "markdown",
   "metadata": {},
   "source": [
    "## Delete SQL table with conditions"
   ]
  },
  {
   "cell_type": "code",
   "execution_count": null,
   "metadata": {},
   "outputs": [],
   "source": [
    "# open connection\n",
    "cnxn = pyodbc.connect(r'Driver={SQL Server};SERVER=SRPADSQL0211.insim.biz\\DIAGNOSTICS,48000;Database=QEDB;Trusted_Connection=yes')\n",
    "# Create a cursor from the connection\n",
    "cursor = cnxn.cursor()\n",
    "# delete entry using parametrization\n",
    "EndDate = 20180831\n",
    "cursor.execute('DELETE FROM Qedb.[ex].[AI_BayesianTargets] WHERE EndDate=?', (EndDate))\n",
    "cnxn.commit()\n",
    "cnxn.close() # close connection "
   ]
  }
 ],
 "metadata": {
  "kernelspec": {
   "display_name": "Python 3",
   "language": "python",
   "name": "python3"
  },
  "language_info": {
   "codemirror_mode": {
    "name": "ipython",
    "version": 3
   },
   "file_extension": ".py",
   "mimetype": "text/x-python",
   "name": "python",
   "nbconvert_exporter": "python",
   "pygments_lexer": "ipython3",
   "version": "3.7.3"
  }
 },
 "nbformat": 4,
 "nbformat_minor": 2
}
