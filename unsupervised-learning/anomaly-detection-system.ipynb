{
 "cells": [
  {
   "cell_type": "markdown",
   "metadata": {},
   "source": [
    "## Anomaly Detection System\n",
    "Implementation of an anomaly detection algorithm to detect anomalous behavior in server computers. The features measure the `through-put` (mb/s) and `latency` (ms) of response of each server. While your servers were operating, you collected `m = 307` examples of how they were behaving, and thus have an unlabeled dataset ${x^{1}, ..., x^{m}}$. You suspect that the vast majority of these examples are *normal* (non-anomalous) examples of the servers operating normally, but there might also be some examples of servers acting anomalously within this dataset.\n",
    "\n",
    "You will use a Gaussian model to detect anomalous examples in your dataset. You will first start on a 2D dataset that will allow you to visualize what the algorithm is doing. On that dataset you will fit a Gaussian distribution and then __find values that have very low probability and hence can be considered anomalies__."
   ]
  },
  {
   "cell_type": "code",
   "execution_count": 1,
   "metadata": {},
   "outputs": [],
   "source": [
    "import os\n",
    "import matplotlib.pyplot as plt\n",
    "import numpy  as np\n",
    "import pandas as pd\n",
    "from scipy.io    import loadmat\n",
    "from pathlib     import Path"
   ]
  },
  {
   "cell_type": "code",
   "execution_count": 2,
   "metadata": {},
   "outputs": [
    {
     "name": "stdout",
     "output_type": "stream",
     "text": [
      "- Root directory = C:\\Users\\giann\\data-science-core\n"
     ]
    }
   ],
   "source": [
    "# set root directory\n",
    "path_root = Path(\"C:/Users/giann/data-science-core\")\n",
    "os.chdir(path_root)\n",
    "print(f'- Root directory = {os.getcwd()}')"
   ]
  },
  {
   "cell_type": "code",
   "execution_count": 3,
   "metadata": {},
   "outputs": [
    {
     "name": "stdout",
     "output_type": "stream",
     "text": [
      "dict_keys(['__header__', '__version__', '__globals__', 'X', 'Xval', 'yval'])\n",
      "dict_keys(['X', 'Xval', 'yval'])\n"
     ]
    }
   ],
   "source": [
    "path_dataset = path_root / 'dataset/ex8data1.mat'\n",
    "mat = loadmat(path_dataset)  # load mat-file\n",
    "print(mat.keys())\n",
    "del(mat['__header__'])\n",
    "del(mat['__version__'])\n",
    "del(mat['__globals__'])\n",
    "print(mat.keys())"
   ]
  },
  {
   "cell_type": "code",
   "execution_count": 4,
   "metadata": {},
   "outputs": [
    {
     "data": {
      "text/html": [
       "<div>\n",
       "<style scoped>\n",
       "    .dataframe tbody tr th:only-of-type {\n",
       "        vertical-align: middle;\n",
       "    }\n",
       "\n",
       "    .dataframe tbody tr th {\n",
       "        vertical-align: top;\n",
       "    }\n",
       "\n",
       "    .dataframe thead th {\n",
       "        text-align: right;\n",
       "    }\n",
       "</style>\n",
       "<table border=\"1\" class=\"dataframe\">\n",
       "  <thead>\n",
       "    <tr style=\"text-align: right;\">\n",
       "      <th></th>\n",
       "      <th>latency</th>\n",
       "      <th>through-put</th>\n",
       "    </tr>\n",
       "  </thead>\n",
       "  <tbody>\n",
       "    <tr>\n",
       "      <th>0</th>\n",
       "      <td>13.046815</td>\n",
       "      <td>14.741152</td>\n",
       "    </tr>\n",
       "    <tr>\n",
       "      <th>1</th>\n",
       "      <td>13.408520</td>\n",
       "      <td>13.763270</td>\n",
       "    </tr>\n",
       "    <tr>\n",
       "      <th>2</th>\n",
       "      <td>14.195915</td>\n",
       "      <td>15.853181</td>\n",
       "    </tr>\n",
       "  </tbody>\n",
       "</table>\n",
       "</div>"
      ],
      "text/plain": [
       "     latency  through-put\n",
       "0  13.046815    14.741152\n",
       "1  13.408520    13.763270\n",
       "2  14.195915    15.853181"
      ]
     },
     "execution_count": 4,
     "metadata": {},
     "output_type": "execute_result"
    }
   ],
   "source": [
    "### Get train (unlabed data)\n",
    "data_train = pd.DataFrame(data = mat['X'], columns = ['latency', 'through-put'] )\n",
    "data_train.head(3)"
   ]
  },
  {
   "cell_type": "code",
   "execution_count": 5,
   "metadata": {},
   "outputs": [
    {
     "data": {
      "text/html": [
       "<div>\n",
       "<style scoped>\n",
       "    .dataframe tbody tr th:only-of-type {\n",
       "        vertical-align: middle;\n",
       "    }\n",
       "\n",
       "    .dataframe tbody tr th {\n",
       "        vertical-align: top;\n",
       "    }\n",
       "\n",
       "    .dataframe thead th {\n",
       "        text-align: right;\n",
       "    }\n",
       "</style>\n",
       "<table border=\"1\" class=\"dataframe\">\n",
       "  <thead>\n",
       "    <tr style=\"text-align: right;\">\n",
       "      <th></th>\n",
       "      <th>latency</th>\n",
       "      <th>through-put</th>\n",
       "      <th>anomaly</th>\n",
       "    </tr>\n",
       "  </thead>\n",
       "  <tbody>\n",
       "    <tr>\n",
       "      <th>0</th>\n",
       "      <td>15.790260</td>\n",
       "      <td>14.921024</td>\n",
       "      <td>0.0</td>\n",
       "    </tr>\n",
       "    <tr>\n",
       "      <th>1</th>\n",
       "      <td>13.639619</td>\n",
       "      <td>15.329955</td>\n",
       "      <td>0.0</td>\n",
       "    </tr>\n",
       "    <tr>\n",
       "      <th>2</th>\n",
       "      <td>14.865899</td>\n",
       "      <td>16.473865</td>\n",
       "      <td>0.0</td>\n",
       "    </tr>\n",
       "  </tbody>\n",
       "</table>\n",
       "</div>"
      ],
      "text/plain": [
       "     latency  through-put  anomaly\n",
       "0  15.790260    14.921024      0.0\n",
       "1  13.639619    15.329955      0.0\n",
       "2  14.865899    16.473865      0.0"
      ]
     },
     "execution_count": 5,
     "metadata": {},
     "output_type": "execute_result"
    }
   ],
   "source": [
    "# get test data (labeled data)\n",
    "data_test = np.concatenate((mat['Xval'], mat['yval']), axis = 1)\n",
    "data_test = pd.DataFrame(data = data_test, columns = ['latency', 'through-put', 'anomaly'] )\n",
    "data_test.head(3)"
   ]
  },
  {
   "cell_type": "code",
   "execution_count": 6,
   "metadata": {},
   "outputs": [
    {
     "data": {
      "text/plain": [
       "<Figure size 432x288 with 0 Axes>"
      ]
     },
     "metadata": {},
     "output_type": "display_data"
    },
    {
     "data": {
      "image/png": "[encoded data removed]",
      "text/plain": [
       "<Figure size 432x288 with 1 Axes>"
      ]
     },
     "metadata": {
      "needs_background": "light"
     },
     "output_type": "display_data"
    }
   ],
   "source": [
    "# Visualize the example dataset\n",
    "plt.figure()\n",
    "ax = data_train.plot(kind = 'scatter', x = 'latency', y = 'through-put')\n",
    "ax = plt.xlabel('Latency (ms)');\n",
    "ax = plt.ylabel('Throughput (mb/s)');\n",
    "ax = plt.grid()\n",
    "plt.show()"
   ]
  },
  {
   "cell_type": "markdown",
   "metadata": {},
   "source": [
    "### Estimate the dataset statistics\n",
    "To perform anomaly detection, you will first need to fit a model to the data's distribution, in this case mean $\\mu$ and covariance matrix $\\Sigma$."
   ]
  },
  {
   "cell_type": "code",
   "execution_count": 9,
   "metadata": {},
   "outputs": [
    {
     "name": "stdout",
     "output_type": "stream",
     "text": [
      "o train feature mean \n",
      " latency        14.112226\n",
      "through-put    14.997711\n",
      "dtype: float64 \n",
      "\n",
      "o train feature variacne \n",
      "               latency  through-put\n",
      "latency      1.838620    -0.227865\n",
      "through-put -0.227865     1.715333\n"
     ]
    }
   ],
   "source": [
    "# Estimate mean (mu) and variance (sigma2)\n",
    "mu = data_train.mean(axis = 'index', skipna = True)\n",
    "Sigma2 = data_train.cov()\n",
    "print(f\"o train feature mean \\n {mu} \\n\")\n",
    "print(f\"o train feature variacne \\n {Sigma2}\")"
   ]
  },
  {
   "cell_type": "code",
   "execution_count": 11,
   "metadata": {},
   "outputs": [],
   "source": [
    "def multivariateGaussian(X, mu, Sigma2) :\n",
    "    \"\"\"\n",
    "    Computes the probability density function of the multivariate gaussian distribution.\n",
    "    p = MULTIVARIATEGAUSSIAN(X, mu, Sigma2) Computes the probability \n",
    "    density function of the examples X under the multivariate gaussian \n",
    "    distribution with parameters mu and Sigma2. If Sigma2 is a matrix, it is\n",
    "    treated as the covariance matrix.     \n",
    "    \"\"\"\n",
    "    # get number of mean values (# features)\n",
    "    k = len(mu)\n",
    "    # (X - mu)\n",
    "    X = X - mu\n",
    "    X = X.values\n",
    "    # probability density function\n",
    "    C = (2*np.pi)**(-k/2)*np.linalg.det(Sigma2)**(-0.5) \n",
    "    exponent = -0.5 * np.sum(np.matmul(X, np.linalg.pinv(Sigma2)) * X, axis = 1)\n",
    "    p = C * np.exp(exponent)\n",
    "    return p\n",
    "\n",
    "p = multivariateGaussian(data_train, mu, Sigma2)"
   ]
  },
  {
   "cell_type": "markdown",
   "metadata": {},
   "source": [
    "### Selecting the threshold $\\epsilon$\n",
    "Now that you have estimated the Gaussian parameters, you can investigate which examples have a very high probability given this distribution and which examples have a very low probability. The low probability examples are more likely to be the anomalies in our dataset. One way to determine which examples are anomalies is to select a threshold based on a cross validation set. In this part of the exercise, you will implement an algorithm to select the threshold using the **F1** score on a **cross validation set**.\n",
    "\n",
    "For this, we will use a cross validation set ${(x_{cv}^{1}, y_{cv}^{1}), ...,  (x_{cv}^{m_{cv}}, y_{cv}^{m_{cv}})}$ where the label `y = 1` corresponds to an anomalous example, and `y = 0` corresponds to a normal example. For each cross validation example, we will compute $p(x_{cv}^{i})$. The vector of all of these probabilities $p(x_{cv}^{1}), ..., p(x_{cv}^{m_{cv}})$ is passed to `selectThreshold.m` in the vector `pval`. The corresponding labels $y_{cv}^{1}, ..., y_{cv}^{m_{cv}}$ is passed to the same function in the vector `yval`."
   ]
  },
  {
   "cell_type": "code",
   "execution_count": 13,
   "metadata": {},
   "outputs": [],
   "source": [
    "Xval = data_test.drop('anomaly', axis = 1)\n",
    "pval = multivariateGaussian(Xval, mu, Sigma2);\n",
    "yval = data_test['anomaly'].values"
   ]
  },
  {
   "cell_type": "markdown",
   "metadata": {},
   "source": [
    "The function `selectThreshold.m` returns two values: the first is the selected threshold  $\\epsilon$. If a sample $x$ has a low probability $p(x) < \\epsilon$, then it is considered to be an **anomaly**. The function also returns the **F1 score**, which tells you how well you're doing on finding the ground truth anomalies given a certain threshold. For many different values of $\\epsilon$, the resulting F1 score. The F1 score is computed using **precision** (prec) and **recall** (rec):\n",
    "\\begin{equation*}\n",
    "F_{1} = \\frac{2 \\cdot prec \\cdot rec}{prec + rec}\n",
    "\\end{equation*}\n",
    "where:\n",
    "\\begin{align}\n",
    "prec & = \\frac{tp}{tp + fp} \\\\\n",
    "rec  & = \\frac{tp}{tp + fn} \n",
    "\\end{align}\n",
    "with :\n",
    "- **tp** a.k.a *true positives*: the ground truth label says it's an anomaly and our algorithm correctly classified it as an anomaly.\n",
    "- **fp** a.k.a *false positives*: the ground truth label says it's not an anomaly, but our algorithm incorrectly classified it as an anomaly.\n",
    "- **fn** a.k.a. *false negatives*: the ground truth label says it's an anomaly, but our algorithm incorrectly classified it as not being anomalous."
   ]
  },
  {
   "cell_type": "code",
   "execution_count": 14,
   "metadata": {},
   "outputs": [
    {
     "name": "stderr",
     "output_type": "stream",
     "text": [
      "C:\\Users\\giann\\Anaconda3\\envs\\data-science\\lib\\site-packages\\ipykernel_launcher.py:20: RuntimeWarning: invalid value encountered in long_scalars\n"
     ]
    }
   ],
   "source": [
    "def selectThreshold(yval, pval) :\n",
    "    \"\"\"\n",
    "    Finds the best threshold to use for selecting outliers based on the results from a\n",
    "    validation set (pval) and the ground truth (yval).    \n",
    "    \"\"\"\n",
    "\n",
    "    bestEpsilon = 0\n",
    "    bestF1 = 0\n",
    "    F1 = 0\n",
    "    stepsize = (max(pval) - min(pval)) / 1000\n",
    "\n",
    "    for epsilon in np.arange(min(pval), max(pval), stepsize) :\n",
    "        #print(epsilon)\n",
    "        cvPredictions = (pval < epsilon);\n",
    "        # true positive | false positive | false negative\n",
    "        tp = np.sum((cvPredictions == 1) & (yval == 1)) # true positive \n",
    "        fp = np.sum((cvPredictions == 1) & (yval == 0)) # false positive\n",
    "        fn = np.sum((cvPredictions == 0) & (yval == 1)) # false negative\n",
    "        # get precision and recall -> F1-score\n",
    "        prec = tp/(tp+fp);\n",
    "        rec  = tp/(tp+fn);\n",
    "        F1   = (2 * prec * rec)/(prec + rec);    \n",
    "\n",
    "        if F1 > bestF1 :\n",
    "            bestF1      = F1\n",
    "            bestEpsilon = epsilon\n",
    "\n",
    "    return (bestEpsilon, bestF1)\n",
    "    \n",
    "(epsilon, F1) = selectThreshold(yval, pval)"
   ]
  },
  {
   "cell_type": "code",
   "execution_count": 15,
   "metadata": {},
   "outputs": [
    {
     "name": "stdout",
     "output_type": "stream",
     "text": [
      "Best epsilon found using cross-validation: 9.03624067615638e-05\n",
      "Best F1 on Cross Validation Set: 0.8750000000000001\n",
      "   (you should see a value epsilon of about 8.99e-05)\n",
      "   (you should see a Best F1 value of  0.875000)\n"
     ]
    }
   ],
   "source": [
    "print(f'Best epsilon found using cross-validation: {epsilon}')\n",
    "print(f'Best F1 on Cross Validation Set: {F1}');\n",
    "print('   (you should see a value epsilon of about 8.99e-05)')\n",
    "print('   (you should see a Best F1 value of  0.875000)')"
   ]
  },
  {
   "cell_type": "code",
   "execution_count": 16,
   "metadata": {},
   "outputs": [],
   "source": [
    "# Find the outliers in the training set and plot the\n",
    "outliers = data_train[p < epsilon]"
   ]
  },
  {
   "cell_type": "code",
   "execution_count": 17,
   "metadata": {},
   "outputs": [
    {
     "data": {
      "image/png": "[encoded data removed]",
      "text/plain": [
       "<Figure size 432x288 with 1 Axes>"
      ]
     },
     "metadata": {
      "needs_background": "light"
     },
     "output_type": "display_data"
    }
   ],
   "source": [
    "#  Draw a red circle around those outliers\n",
    "# Visualize the example dataset\n",
    "plt.figure()\n",
    "ax = plt.scatter(x = data_train['latency'], y = data_train['through-put'])\n",
    "ax = plt.scatter(x = outliers['latency']  , y = outliers['through-put'], s=80, facecolors = 'none', edgecolors = 'r')\n",
    "ax = plt.xlabel('Latency (ms)');\n",
    "ax = plt.ylabel('Throughput (mb/s)');\n",
    "ax = plt.grid()\n",
    "plt.show()"
   ]
  },
  {
   "cell_type": "markdown",
   "metadata": {},
   "source": [
    "## Multidimensional Outliers\n",
    "In this dataset, each example is described by 11 features, capturing many more properties of your compute servers."
   ]
  },
  {
   "cell_type": "code",
   "execution_count": 18,
   "metadata": {},
   "outputs": [
    {
     "name": "stdout",
     "output_type": "stream",
     "text": [
      "dict_keys(['__header__', '__version__', '__globals__', 'X', 'Xval', 'yval'])\n",
      "dict_keys(['X', 'Xval', 'yval'])\n"
     ]
    }
   ],
   "source": [
    "# Loads the second dataset. \n",
    "path_dataset = path_root / 'dataset/ex8data2.mat'\n",
    "mat = loadmat(path_dataset)  # load mat-file\n",
    "print(mat.keys())\n",
    "del(mat['__header__'])\n",
    "del(mat['__version__'])\n",
    "del(mat['__globals__'])\n",
    "print(mat.keys())"
   ]
  },
  {
   "cell_type": "code",
   "execution_count": 19,
   "metadata": {},
   "outputs": [
    {
     "name": "stdout",
     "output_type": "stream",
     "text": [
      "o shape = (1000, 11)\n",
      "         0          1          2          3          4          5          6   \\\n",
      "0  6.653114  13.689702  17.552845 -11.933497  -5.756409  15.435921 -12.136752   \n",
      "1 -5.630542 -18.937667  18.644624  -6.155825 -25.988864  15.409553 -16.595516   \n",
      "2  9.721525  -9.982489  15.571434 -32.224266  -5.595799  24.321383   0.832774   \n",
      "\n",
      "          7         8          9          10  \n",
      "0   8.224123 -4.884024   5.349335  17.351372  \n",
      "1   9.454654 -2.877173  -6.009420  19.210636  \n",
      "2  10.794555  0.727575  10.392975   7.085995  \n"
     ]
    }
   ],
   "source": [
    "# Get train (unlabed data)\n",
    "data_train = pd.DataFrame(data = mat['X'])\n",
    "print(f\"o shape = {data_train.shape}\")\n",
    "print(data_train.head(3))"
   ]
  },
  {
   "cell_type": "code",
   "execution_count": 20,
   "metadata": {},
   "outputs": [
    {
     "name": "stdout",
     "output_type": "stream",
     "text": [
      "o shape = (100, 12)\n",
      "          0          1          2          3         4          5         6   \\\n",
      "0  18.271283 -12.359268   5.000970   1.611472  1.088592  29.314410 -8.313531   \n",
      "1  -3.193070 -19.705821   6.528556 -21.570858  3.050556  23.477503 -1.133420   \n",
      "2  -5.256678 -12.918720  25.435141  -7.231568  3.647838  12.366550 -6.512076   \n",
      "\n",
      "          7          8          9          10   11  \n",
      "0  36.438338  -9.476679 -25.928183   7.108628  1.0  \n",
      "1  12.688409 -10.968301  -1.198666   1.908441  0.0  \n",
      "2   8.750902  -0.768755  -3.261094  13.729474  0.0  \n"
     ]
    }
   ],
   "source": [
    "# get test data (labeled data)\n",
    "data_test = np.concatenate((mat['Xval'], mat['yval']), axis = 1)\n",
    "data_test = pd.DataFrame(data = data_test)\n",
    "print(f\"o shape = {data_test.shape}\")\n",
    "print(data_test.head(3))"
   ]
  },
  {
   "cell_type": "code",
   "execution_count": 33,
   "metadata": {},
   "outputs": [
    {
     "name": "stdout",
     "output_type": "stream",
     "text": [
      "o train feature mean \n",
      " 0      4.939400\n",
      "1     -9.637268\n",
      "2     13.814707\n",
      "3    -10.464489\n",
      "4     -7.956229\n",
      "5     10.199504\n",
      "6     -6.019408\n",
      "7      7.969829\n",
      "8     -6.253182\n",
      "9      2.324513\n",
      "10     8.473723\n",
      "dtype: float64 \n",
      "\n",
      "o train feature variacne \n",
      "           0          1          2          3          4          5   \\\n",
      "0   61.03593   0.000000   0.000000   0.000000   0.000000   0.000000   \n",
      "1    0.00000  53.258981   0.000000   0.000000   0.000000   0.000000   \n",
      "2    0.00000   0.000000  58.574037   0.000000   0.000000   0.000000   \n",
      "3    0.00000   0.000000   0.000000  84.288326   0.000000   0.000000   \n",
      "4    0.00000   0.000000   0.000000   0.000000  65.333926   0.000000   \n",
      "5    0.00000   0.000000   0.000000   0.000000   0.000000  89.664542   \n",
      "6    0.00000   0.000000   0.000000   0.000000   0.000000   0.000000   \n",
      "7    0.00000   0.000000   0.000000   0.000000   0.000000   0.000000   \n",
      "8    0.00000   0.000000   0.000000   0.000000   0.000000   0.000000   \n",
      "9    0.00000   0.000000   0.000000   0.000000   0.000000   0.000000   \n",
      "10   0.00000   0.000000   0.000000   0.000000   0.000000   0.000000   \n",
      "\n",
      "           6          7          8          9          10  \n",
      "0    0.000000   0.000000   0.000000   0.000000   0.000000  \n",
      "1    0.000000   0.000000   0.000000   0.000000   0.000000  \n",
      "2    0.000000   0.000000   0.000000   0.000000   0.000000  \n",
      "3    0.000000   0.000000   0.000000   0.000000   0.000000  \n",
      "4    0.000000   0.000000   0.000000   0.000000   0.000000  \n",
      "5    0.000000   0.000000   0.000000   0.000000   0.000000  \n",
      "6   55.689188   0.000000   0.000000   0.000000   0.000000  \n",
      "7    0.000000  87.249587   0.000000   0.000000   0.000000  \n",
      "8    0.000000   0.000000  29.658927   0.000000   0.000000  \n",
      "9    0.000000   0.000000   0.000000  70.856061   0.000000  \n",
      "10   0.000000   0.000000   0.000000   0.000000  50.554121  \n"
     ]
    }
   ],
   "source": [
    "# Estimate mean (mu) and variance (sigma2)\n",
    "mu = data_train.mean(axis = 'index', skipna = True)\n",
    "Sigma2 = data_train.cov()\n",
    "\n",
    "# patch neglect covariance to match the example\n",
    "for i in range(Sigma2.shape[0]) :\n",
    "    for j in range(Sigma2.shape[0]) :\n",
    "        if i != j :\n",
    "            Sigma2.iloc[i,j] = 0\n",
    "\n",
    "print(f\"o train feature mean \\n {mu} \\n\")\n",
    "print(f\"o train feature variance \\n {Sigma2}\")"
   ]
  },
  {
   "cell_type": "code",
   "execution_count": 34,
   "metadata": {},
   "outputs": [],
   "source": [
    "#  Training set \n",
    "p = multivariateGaussian(data_train, mu, Sigma2)"
   ]
  },
  {
   "cell_type": "code",
   "execution_count": 35,
   "metadata": {},
   "outputs": [],
   "source": [
    "# Cross-validation set\n",
    "#pval = multivariateGaussian(Xval, mu, sigma2);\n",
    "Xval = data_test.drop(11, axis = 1)\n",
    "pval = multivariateGaussian(Xval, mu, Sigma2);\n",
    "yval = data_test[11].values"
   ]
  },
  {
   "cell_type": "code",
   "execution_count": 36,
   "metadata": {},
   "outputs": [
    {
     "name": "stderr",
     "output_type": "stream",
     "text": [
      "C:\\Users\\giann\\Anaconda3\\envs\\data-science\\lib\\site-packages\\ipykernel_launcher.py:20: RuntimeWarning: invalid value encountered in long_scalars\n"
     ]
    }
   ],
   "source": [
    "# Find the best threshold\n",
    "(epsilon, F1) = selectThreshold(yval, pval)"
   ]
  },
  {
   "cell_type": "code",
   "execution_count": 37,
   "metadata": {},
   "outputs": [
    {
     "name": "stdout",
     "output_type": "stream",
     "text": [
      "Best epsilon found using cross-validation: 1.3716606750407376e-18\n",
      "   (you should see a value epsilon of about 1.38e-18)\n",
      "Best F1 on Cross Validation Set:  0.6153846153846154\n",
      "   (you should see a Best F1 value of 0.615385)\n",
      "# Outliers found: 117\n"
     ]
    }
   ],
   "source": [
    "print(f'Best epsilon found using cross-validation: {epsilon}');\n",
    "print(f'   (you should see a value epsilon of about 1.38e-18)');\n",
    "print(f'Best F1 on Cross Validation Set:  {F1}');\n",
    "print(f'   (you should see a Best F1 value of 0.615385)');\n",
    "print(f'# Outliers found: {np.sum(p < epsilon)}');"
   ]
  }
 ],
 "metadata": {
  "kernelspec": {
   "display_name": "Python 3",
   "language": "python",
   "name": "python3"
  },
  "language_info": {
   "codemirror_mode": {
    "name": "ipython",
    "version": 3
   },
   "file_extension": ".py",
   "mimetype": "text/x-python",
   "name": "python",
   "nbconvert_exporter": "python",
   "pygments_lexer": "ipython3",
   "version": "3.6.8"
  }
 },
 "nbformat": 4,
 "nbformat_minor": 2
}
