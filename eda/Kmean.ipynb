{
 "cells": [
  {
   "cell_type": "markdown",
   "metadata": {},
   "source": [
    "## K-means"
   ]
  },
  {
   "cell_type": "code",
   "execution_count": 8,
   "metadata": {},
   "outputs": [],
   "source": [
    "import matplotlib.pyplot as plt\n",
    "import pandas as pd\n",
    "import numpy  as np\n",
    "import os\n",
    "\n",
    "from pathlib               import Path\n",
    "from sklearn.cluster       import KMeans\n",
    "from sklearn.pipeline      import make_pipeline\n",
    "\n",
    "# method to scale the data\n",
    "from sklearn.preprocessing import Normalizer\n",
    "from sklearn.preprocessing import StandardScaler\n",
    "from sklearn.preprocessing import normalize"
   ]
  },
  {
   "cell_type": "code",
   "execution_count": 9,
   "metadata": {},
   "outputs": [
    {
     "name": "stdout",
     "output_type": "stream",
     "text": [
      "- Root directory = C:\\Users\\giann\\data-science-core\n"
     ]
    }
   ],
   "source": [
    "# set root directory\n",
    "path_root = Path(\"C:/Users/giann/data-science-core\")\n",
    "os.chdir(path_root)\n",
    "print(f'- Root directory = {os.getcwd()}')"
   ]
  },
  {
   "cell_type": "markdown",
   "metadata": {},
   "source": [
    "## o Stock movements dataset\n",
    "cluster companies via their daily stock price movements (i.e. the dollar difference between the closing and opening prices for each trading day) from `2010` to `2015` obtained from *Yahoo! Finance*, where each row corresponds to a company, and each column corresponds to a trading day. Some stocks are more expensive than others. To account for this, include a `Normalizer` at the beginning of your pipeline. The Normalizer will separately transform each company's stock price to a relative scale before the clustering begins."
   ]
  },
  {
   "cell_type": "code",
   "execution_count": 10,
   "metadata": {},
   "outputs": [
    {
     "data": {
      "text/html": [
       "<div>\n",
       "<style scoped>\n",
       "    .dataframe tbody tr th:only-of-type {\n",
       "        vertical-align: middle;\n",
       "    }\n",
       "\n",
       "    .dataframe tbody tr th {\n",
       "        vertical-align: top;\n",
       "    }\n",
       "\n",
       "    .dataframe thead th {\n",
       "        text-align: right;\n",
       "    }\n",
       "</style>\n",
       "<table border=\"1\" class=\"dataframe\">\n",
       "  <thead>\n",
       "    <tr style=\"text-align: right;\">\n",
       "      <th></th>\n",
       "      <th>2010-01-04</th>\n",
       "      <th>2010-01-05</th>\n",
       "      <th>2010-01-06</th>\n",
       "      <th>2010-01-07</th>\n",
       "      <th>2010-01-08</th>\n",
       "      <th>2010-01-11</th>\n",
       "      <th>2010-01-12</th>\n",
       "      <th>2010-01-13</th>\n",
       "      <th>2010-01-14</th>\n",
       "      <th>2010-01-15</th>\n",
       "      <th>...</th>\n",
       "      <th>2013-10-16</th>\n",
       "      <th>2013-10-17</th>\n",
       "      <th>2013-10-18</th>\n",
       "      <th>2013-10-21</th>\n",
       "      <th>2013-10-22</th>\n",
       "      <th>2013-10-23</th>\n",
       "      <th>2013-10-24</th>\n",
       "      <th>2013-10-25</th>\n",
       "      <th>2013-10-28</th>\n",
       "      <th>2013-10-29</th>\n",
       "    </tr>\n",
       "  </thead>\n",
       "  <tbody>\n",
       "    <tr>\n",
       "      <th>Apple</th>\n",
       "      <td>0.580000</td>\n",
       "      <td>-0.220005</td>\n",
       "      <td>-3.409998</td>\n",
       "      <td>-1.170000</td>\n",
       "      <td>1.680011</td>\n",
       "      <td>-2.689994</td>\n",
       "      <td>-1.469994</td>\n",
       "      <td>2.779997</td>\n",
       "      <td>-0.680003</td>\n",
       "      <td>-4.999995</td>\n",
       "      <td>...</td>\n",
       "      <td>0.320008</td>\n",
       "      <td>4.519997</td>\n",
       "      <td>2.899987</td>\n",
       "      <td>9.590019</td>\n",
       "      <td>-6.540016</td>\n",
       "      <td>5.959976</td>\n",
       "      <td>6.910011</td>\n",
       "      <td>-5.359962</td>\n",
       "      <td>0.840019</td>\n",
       "      <td>-19.589981</td>\n",
       "    </tr>\n",
       "    <tr>\n",
       "      <th>AIG</th>\n",
       "      <td>-0.640002</td>\n",
       "      <td>-0.650000</td>\n",
       "      <td>-0.210001</td>\n",
       "      <td>-0.420000</td>\n",
       "      <td>0.710001</td>\n",
       "      <td>-0.200001</td>\n",
       "      <td>-1.130001</td>\n",
       "      <td>0.069999</td>\n",
       "      <td>-0.119999</td>\n",
       "      <td>-0.500000</td>\n",
       "      <td>...</td>\n",
       "      <td>0.919998</td>\n",
       "      <td>0.709999</td>\n",
       "      <td>0.119999</td>\n",
       "      <td>-0.480000</td>\n",
       "      <td>0.010002</td>\n",
       "      <td>-0.279998</td>\n",
       "      <td>-0.190003</td>\n",
       "      <td>-0.040001</td>\n",
       "      <td>-0.400002</td>\n",
       "      <td>0.660000</td>\n",
       "    </tr>\n",
       "    <tr>\n",
       "      <th>Amazon</th>\n",
       "      <td>-2.350006</td>\n",
       "      <td>1.260009</td>\n",
       "      <td>-2.350006</td>\n",
       "      <td>-2.009995</td>\n",
       "      <td>2.960006</td>\n",
       "      <td>-2.309997</td>\n",
       "      <td>-1.640007</td>\n",
       "      <td>1.209999</td>\n",
       "      <td>-1.790001</td>\n",
       "      <td>-2.039994</td>\n",
       "      <td>...</td>\n",
       "      <td>2.109985</td>\n",
       "      <td>3.699982</td>\n",
       "      <td>9.570008</td>\n",
       "      <td>-3.450013</td>\n",
       "      <td>4.820008</td>\n",
       "      <td>-4.079986</td>\n",
       "      <td>2.579986</td>\n",
       "      <td>4.790009</td>\n",
       "      <td>-1.760009</td>\n",
       "      <td>3.740021</td>\n",
       "    </tr>\n",
       "    <tr>\n",
       "      <th>American express</th>\n",
       "      <td>0.109997</td>\n",
       "      <td>0.000000</td>\n",
       "      <td>0.260002</td>\n",
       "      <td>0.720002</td>\n",
       "      <td>0.190003</td>\n",
       "      <td>-0.270001</td>\n",
       "      <td>0.750000</td>\n",
       "      <td>0.300004</td>\n",
       "      <td>0.639999</td>\n",
       "      <td>-0.130001</td>\n",
       "      <td>...</td>\n",
       "      <td>0.680001</td>\n",
       "      <td>2.290001</td>\n",
       "      <td>0.409996</td>\n",
       "      <td>-0.069999</td>\n",
       "      <td>0.100006</td>\n",
       "      <td>0.069999</td>\n",
       "      <td>0.130005</td>\n",
       "      <td>1.849999</td>\n",
       "      <td>0.040001</td>\n",
       "      <td>0.540001</td>\n",
       "    </tr>\n",
       "    <tr>\n",
       "      <th>Boeing</th>\n",
       "      <td>0.459999</td>\n",
       "      <td>1.770000</td>\n",
       "      <td>1.549999</td>\n",
       "      <td>2.690003</td>\n",
       "      <td>0.059997</td>\n",
       "      <td>-1.080002</td>\n",
       "      <td>0.360000</td>\n",
       "      <td>0.549999</td>\n",
       "      <td>0.530002</td>\n",
       "      <td>-0.709999</td>\n",
       "      <td>...</td>\n",
       "      <td>1.559997</td>\n",
       "      <td>2.480003</td>\n",
       "      <td>0.019997</td>\n",
       "      <td>-1.220001</td>\n",
       "      <td>0.480003</td>\n",
       "      <td>3.020004</td>\n",
       "      <td>-0.029999</td>\n",
       "      <td>1.940002</td>\n",
       "      <td>1.130005</td>\n",
       "      <td>0.309998</td>\n",
       "    </tr>\n",
       "  </tbody>\n",
       "</table>\n",
       "<p>5 rows × 963 columns</p>\n",
       "</div>"
      ],
      "text/plain": [
       "                  2010-01-04  2010-01-05  2010-01-06  2010-01-07  2010-01-08  \\\n",
       "Apple               0.580000   -0.220005   -3.409998   -1.170000    1.680011   \n",
       "AIG                -0.640002   -0.650000   -0.210001   -0.420000    0.710001   \n",
       "Amazon             -2.350006    1.260009   -2.350006   -2.009995    2.960006   \n",
       "American express    0.109997    0.000000    0.260002    0.720002    0.190003   \n",
       "Boeing              0.459999    1.770000    1.549999    2.690003    0.059997   \n",
       "\n",
       "                  2010-01-11  2010-01-12  2010-01-13  2010-01-14  2010-01-15  \\\n",
       "Apple              -2.689994   -1.469994    2.779997   -0.680003   -4.999995   \n",
       "AIG                -0.200001   -1.130001    0.069999   -0.119999   -0.500000   \n",
       "Amazon             -2.309997   -1.640007    1.209999   -1.790001   -2.039994   \n",
       "American express   -0.270001    0.750000    0.300004    0.639999   -0.130001   \n",
       "Boeing             -1.080002    0.360000    0.549999    0.530002   -0.709999   \n",
       "\n",
       "                  ...  2013-10-16  2013-10-17  2013-10-18  2013-10-21  \\\n",
       "Apple             ...    0.320008    4.519997    2.899987    9.590019   \n",
       "AIG               ...    0.919998    0.709999    0.119999   -0.480000   \n",
       "Amazon            ...    2.109985    3.699982    9.570008   -3.450013   \n",
       "American express  ...    0.680001    2.290001    0.409996   -0.069999   \n",
       "Boeing            ...    1.559997    2.480003    0.019997   -1.220001   \n",
       "\n",
       "                  2013-10-22  2013-10-23  2013-10-24  2013-10-25  2013-10-28  \\\n",
       "Apple              -6.540016    5.959976    6.910011   -5.359962    0.840019   \n",
       "AIG                 0.010002   -0.279998   -0.190003   -0.040001   -0.400002   \n",
       "Amazon              4.820008   -4.079986    2.579986    4.790009   -1.760009   \n",
       "American express    0.100006    0.069999    0.130005    1.849999    0.040001   \n",
       "Boeing              0.480003    3.020004   -0.029999    1.940002    1.130005   \n",
       "\n",
       "                  2013-10-29  \n",
       "Apple             -19.589981  \n",
       "AIG                 0.660000  \n",
       "Amazon              3.740021  \n",
       "American express    0.540001  \n",
       "Boeing              0.309998  \n",
       "\n",
       "[5 rows x 963 columns]"
      ]
     },
     "execution_count": 10,
     "metadata": {},
     "output_type": "execute_result"
    }
   ],
   "source": [
    "path_dataset = path_root / 'dataset/company-stock-movements-2010-2015-incl.csv'\n",
    "data      = pd.read_csv(path_dataset, index_col = 0) \n",
    "movements = data.values\n",
    "data.head()"
   ]
  },
  {
   "cell_type": "markdown",
   "metadata": {},
   "source": [
    "### Train "
   ]
  },
  {
   "cell_type": "code",
   "execution_count": 11,
   "metadata": {},
   "outputs": [
    {
     "data": {
      "text/plain": [
       "Pipeline(memory=None,\n",
       "     steps=[('normalizer', Normalizer(copy=True, norm='l2')), ('kmeans', KMeans(algorithm='auto', copy_x=True, init='k-means++', max_iter=300,\n",
       "    n_clusters=10, n_init=10, n_jobs=None, precompute_distances='auto',\n",
       "    random_state=None, tol=0.0001, verbose=0))])"
      ]
     },
     "execution_count": 11,
     "metadata": {},
     "output_type": "execute_result"
    }
   ],
   "source": [
    "# Create a normalizer: normalizer\n",
    "normalizer = Normalizer()      # Option 1\n",
    "#normalizer = StandardScaler() # Option 2\n",
    "# Create a KMeans model with 10 clusters: kmeans\n",
    "kmeans = KMeans(n_clusters = 10)\n",
    "# Make a pipeline chaining normalizer and kmeans: pipeline\n",
    "pipeline = make_pipeline(normalizer, kmeans)\n",
    "# Fit pipeline to the daily price movements\n",
    "pipeline.fit(movements)"
   ]
  },
  {
   "cell_type": "markdown",
   "metadata": {},
   "source": [
    "### Predict"
   ]
  },
  {
   "cell_type": "code",
   "execution_count": 12,
   "metadata": {},
   "outputs": [],
   "source": [
    "# Check Which companies moves togheter\n",
    "labels    = pipeline.predict(movements)"
   ]
  },
  {
   "cell_type": "code",
   "execution_count": 13,
   "metadata": {},
   "outputs": [
    {
     "name": "stdout",
     "output_type": "stream",
     "text": [
      "    labels                           companies\n",
      "59       0                               Yahoo\n",
      "2        0                              Amazon\n",
      "17       0                     Google/Alphabet\n",
      "45       1                                Sony\n",
      "35       1                            Navistar\n",
      "34       1                          Mitsubishi\n",
      "48       1                              Toyota\n",
      "58       1                               Xerox\n",
      "21       1                               Honda\n",
      "15       1                                Ford\n",
      "22       1                                  HP\n",
      "7        1                               Canon\n",
      "55       2                         Wells Fargo\n",
      "1        2                                 AIG\n",
      "3        2                    American express\n",
      "16       2                   General Electrics\n",
      "5        2                     Bank of America\n",
      "18       2                       Goldman Sachs\n",
      "26       2                      JPMorgan Chase\n",
      "41       3                       Philip Morris\n",
      "57       3                               Exxon\n",
      "32       3                                  3M\n",
      "28       3                           Coca Cola\n",
      "10       3                      ConocoPhillips\n",
      "44       3                        Schlumberger\n",
      "8        3                         Caterpillar\n",
      "53       3                       Valero Energy\n",
      "13       3                   DuPont de Nemours\n",
      "12       3                             Chevron\n",
      "23       3                                 IBM\n",
      "20       3                          Home Depot\n",
      "56       4                            Wal-Mart\n",
      "6        5            British American Tobacco\n",
      "30       5                          MasterCard\n",
      "49       5                               Total\n",
      "19       5                     GlaxoSmithKline\n",
      "43       5                                 SAP\n",
      "52       5                            Unilever\n",
      "42       5                   Royal Dutch Shell\n",
      "37       5                            Novartis\n",
      "46       5                      Sanofi-Aventis\n",
      "39       5                              Pfizer\n",
      "51       6                   Texas instruments\n",
      "47       6                            Symantec\n",
      "50       6  Taiwan Semiconductor Manufacturing\n",
      "0        6                               Apple\n",
      "33       6                           Microsoft\n",
      "24       6                               Intel\n",
      "14       6                                Dell\n",
      "11       6                               Cisco\n",
      "38       7                               Pepsi\n",
      "27       7                      Kimberly-Clark\n",
      "25       7                   Johnson & Johnson\n",
      "9        7                   Colgate-Palmolive\n",
      "40       7                      Procter Gamble\n",
      "36       8                    Northrop Grumman\n",
      "54       8                            Walgreen\n",
      "4        8                              Boeing\n",
      "29       8                     Lookheed Martin\n",
      "31       9                           McDonalds\n"
     ]
    }
   ],
   "source": [
    "# print cluster\n",
    "companies = data.index\n",
    "# Create a DataFrame aligning labels and companies: df\n",
    "df = pd.DataFrame({'labels': labels, 'companies': companies})\n",
    "# Display df sorted by cluster label\n",
    "print(df.sort_values('labels'))"
   ]
  },
  {
   "cell_type": "markdown",
   "metadata": {},
   "source": [
    "## o Grain dataset \n",
    "- **A**: area; \n",
    "- **P**: perimeter; \n",
    "- $C = \\frac{4 \\pi A}{P^{2}}$ : compactness; \n",
    "- **L1**: length of kernel; \n",
    "- **W**:  width of kernel, \n",
    "- **AC**: asymmetry coefficient \n",
    "- **L2**: length of kernel groove. \n",
    "- **y** : wine category"
   ]
  },
  {
   "cell_type": "code",
   "execution_count": 15,
   "metadata": {},
   "outputs": [
    {
     "data": {
      "text/html": [
       "<div>\n",
       "<style scoped>\n",
       "    .dataframe tbody tr th:only-of-type {\n",
       "        vertical-align: middle;\n",
       "    }\n",
       "\n",
       "    .dataframe tbody tr th {\n",
       "        vertical-align: top;\n",
       "    }\n",
       "\n",
       "    .dataframe thead th {\n",
       "        text-align: right;\n",
       "    }\n",
       "</style>\n",
       "<table border=\"1\" class=\"dataframe\">\n",
       "  <thead>\n",
       "    <tr style=\"text-align: right;\">\n",
       "      <th></th>\n",
       "      <th>A</th>\n",
       "      <th>P</th>\n",
       "      <th>C</th>\n",
       "      <th>L1</th>\n",
       "      <th>W</th>\n",
       "      <th>AC</th>\n",
       "      <th>L2</th>\n",
       "      <th>y</th>\n",
       "    </tr>\n",
       "  </thead>\n",
       "  <tbody>\n",
       "    <tr>\n",
       "      <th>0</th>\n",
       "      <td>15.26</td>\n",
       "      <td>14.84</td>\n",
       "      <td>0.8710</td>\n",
       "      <td>5.763</td>\n",
       "      <td>3.312</td>\n",
       "      <td>2.221</td>\n",
       "      <td>5.220</td>\n",
       "      <td>1</td>\n",
       "    </tr>\n",
       "    <tr>\n",
       "      <th>1</th>\n",
       "      <td>14.88</td>\n",
       "      <td>14.57</td>\n",
       "      <td>0.8811</td>\n",
       "      <td>5.554</td>\n",
       "      <td>3.333</td>\n",
       "      <td>1.018</td>\n",
       "      <td>4.956</td>\n",
       "      <td>1</td>\n",
       "    </tr>\n",
       "    <tr>\n",
       "      <th>2</th>\n",
       "      <td>14.29</td>\n",
       "      <td>14.09</td>\n",
       "      <td>0.9050</td>\n",
       "      <td>5.291</td>\n",
       "      <td>3.337</td>\n",
       "      <td>2.699</td>\n",
       "      <td>4.825</td>\n",
       "      <td>1</td>\n",
       "    </tr>\n",
       "    <tr>\n",
       "      <th>3</th>\n",
       "      <td>13.84</td>\n",
       "      <td>13.94</td>\n",
       "      <td>0.8955</td>\n",
       "      <td>5.324</td>\n",
       "      <td>3.379</td>\n",
       "      <td>2.259</td>\n",
       "      <td>4.805</td>\n",
       "      <td>1</td>\n",
       "    </tr>\n",
       "    <tr>\n",
       "      <th>4</th>\n",
       "      <td>16.14</td>\n",
       "      <td>14.99</td>\n",
       "      <td>0.9034</td>\n",
       "      <td>5.658</td>\n",
       "      <td>3.562</td>\n",
       "      <td>1.355</td>\n",
       "      <td>5.175</td>\n",
       "      <td>1</td>\n",
       "    </tr>\n",
       "  </tbody>\n",
       "</table>\n",
       "</div>"
      ],
      "text/plain": [
       "       A      P       C     L1      W     AC     L2  y\n",
       "0  15.26  14.84  0.8710  5.763  3.312  2.221  5.220  1\n",
       "1  14.88  14.57  0.8811  5.554  3.333  1.018  4.956  1\n",
       "2  14.29  14.09  0.9050  5.291  3.337  2.699  4.825  1\n",
       "3  13.84  13.94  0.8955  5.324  3.379  2.259  4.805  1\n",
       "4  16.14  14.99  0.9034  5.658  3.562  1.355  5.175  1"
      ]
     },
     "execution_count": 15,
     "metadata": {},
     "output_type": "execute_result"
    }
   ],
   "source": [
    "path_dataset = path_root / 'dataset/grains/seeds.csv'\n",
    "data = pd.read_csv(path_dataset, \n",
    "                     header = None,\n",
    "                     names  = ['A', 'P', 'C', 'L1', 'W', 'AC', 'L2', 'y'])\n",
    "X    = data.drop('y', axis=1).values\n",
    "y    = data['y'].values\n",
    "data.head()"
   ]
  },
  {
   "cell_type": "markdown",
   "metadata": {},
   "source": [
    "### Cluster inertias "
   ]
  },
  {
   "cell_type": "code",
   "execution_count": 16,
   "metadata": {},
   "outputs": [
    {
     "data": {
      "image/png": "[encoded data removed]",
      "text/plain": [
       "<Figure size 432x288 with 1 Axes>"
      ]
     },
     "metadata": {
      "needs_background": "light"
     },
     "output_type": "display_data"
    }
   ],
   "source": [
    "ks = range(1, 6)\n",
    "inertias = []\n",
    "for k in ks:\n",
    "    # Create a KMeans instance with k clusters: model\n",
    "    model = KMeans(n_clusters=k)\n",
    "    # Fit model to samples\n",
    "    model.fit(X)\n",
    "    # Append the inertia to the list of inertias\n",
    "    inertias.append(model.inertia_)\n",
    "\n",
    "# Plot ks vs inertias\n",
    "plt.scatter(ks[2], inertias[2], c='r', marker = 'x')\n",
    "plt.plot(ks, inertias, '-o')\n",
    "plt.grid()\n",
    "plt.xlabel('number of clusters, k')\n",
    "plt.ylabel('inertia')\n",
    "plt.xticks(ks)\n",
    "plt.show()"
   ]
  },
  {
   "cell_type": "markdown",
   "metadata": {},
   "source": [
    "### Evaluate Cluster "
   ]
  },
  {
   "cell_type": "code",
   "execution_count": 18,
   "metadata": {},
   "outputs": [
    {
     "name": "stdout",
     "output_type": "stream",
     "text": [
      "varieties  Canadian wheat  Kama wheat  Rosa wheat\n",
      "labels                                           \n",
      "0                      60          10           2\n",
      "1                       1          60           0\n",
      "2                       9           0          68\n"
     ]
    }
   ],
   "source": [
    "# Create a KMeans model with 3 clusters: model\n",
    "model = KMeans(n_clusters = 3)\n",
    "# Use fit_predict to fit model and obtain cluster labels: labels\n",
    "labels = model.fit_predict(X)\n",
    "# Create a DataFrame with clusters and varieties as columns: df\n",
    "varieties = data['y'].copy()\n",
    "varieties[varieties == 1] = 'Canadian wheat'    \n",
    "varieties[varieties == 2] = 'Kama wheat'\n",
    "varieties[varieties == 3] = 'Rosa wheat'\n",
    "\n",
    "df = pd.DataFrame({'labels': labels, 'varieties': varieties})\n",
    "# Create crosstab: ct\n",
    "ct = pd.crosstab(df['labels'], df['varieties'])\n",
    "# Display ct\n",
    "print(ct)"
   ]
  },
  {
   "cell_type": "code",
   "execution_count": null,
   "metadata": {},
   "outputs": [],
   "source": []
  }
 ],
 "metadata": {
  "kernelspec": {
   "display_name": "Python 3",
   "language": "python",
   "name": "python3"
  },
  "language_info": {
   "codemirror_mode": {
    "name": "ipython",
    "version": 3
   },
   "file_extension": ".py",
   "mimetype": "text/x-python",
   "name": "python",
   "nbconvert_exporter": "python",
   "pygments_lexer": "ipython3",
   "version": "3.6.8"
  }
 },
 "nbformat": 4,
 "nbformat_minor": 2
}
